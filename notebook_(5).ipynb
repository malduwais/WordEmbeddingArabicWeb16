{
  "cells": [
    {
      "cell_type": "markdown",
      "metadata": {
        "id": "view-in-github",
        "colab_type": "text"
      },
      "source": [
        "<a href=\"https://colab.research.google.com/github/malduwais/WordEmbeddingArabicWeb16/blob/master/notebook_(5).ipynb\" target=\"_parent\"><img src=\"https://colab.research.google.com/assets/colab-badge.svg\" alt=\"Open In Colab\"/></a>"
      ]
    },
    {
      "cell_type": "code",
      "execution_count": null,
      "metadata": {
        "id": "r2yJ7fYemZiD"
      },
      "outputs": [],
      "source": [
        "# !pip install transformers datasets accelerate xformers -qU\n",
        "# !pip install seqeval evaluate wandb pytorch-crf spacy optuna -qU"
      ]
    },
    {
      "cell_type": "code",
      "execution_count": null,
      "metadata": {
        "id": "oAJG8e-3wwO8"
      },
      "outputs": [],
      "source": [
        "# fix random seed to 42\n",
        "import torch\n",
        "import random\n",
        "import numpy as np\n",
        "import transformers\n",
        "\n",
        "seed = 42\n",
        "random.seed(seed)\n",
        "np.random.seed(seed)\n",
        "torch.manual_seed(seed)\n",
        "torch.cuda.manual_seed(seed)\n",
        "transformers.set_seed(seed)"
      ]
    },
    {
      "cell_type": "code",
      "execution_count": null,
      "metadata": {
        "id": "YT5Dnc0-o8Yw"
      },
      "outputs": [],
      "source": [
        "from datasets import load_dataset\n",
        "\n",
        "raw_datasets = load_dataset(\"conllpp\")"
      ]
    },
    {
      "cell_type": "code",
      "execution_count": null,
      "metadata": {
        "colab": {
          "base_uri": "https://localhost:8080/"
        },
        "id": "D9hfmvQwo8Yz",
        "outputId": "4e039978-864a-4ebc-9c86-1320835341b1"
      },
      "outputs": [
        {
          "data": {
            "text/plain": [
              "DatasetDict({\n",
              "    train: Dataset({\n",
              "        features: ['id', 'tokens', 'pos_tags', 'chunk_tags', 'ner_tags'],\n",
              "        num_rows: 14041\n",
              "    })\n",
              "    validation: Dataset({\n",
              "        features: ['id', 'tokens', 'pos_tags', 'chunk_tags', 'ner_tags'],\n",
              "        num_rows: 3250\n",
              "    })\n",
              "    test: Dataset({\n",
              "        features: ['id', 'tokens', 'pos_tags', 'chunk_tags', 'ner_tags'],\n",
              "        num_rows: 3453\n",
              "    })\n",
              "})"
            ]
          },
          "execution_count": 4,
          "metadata": {},
          "output_type": "execute_result"
        }
      ],
      "source": [
        "raw_datasets"
      ]
    },
    {
      "cell_type": "code",
      "execution_count": null,
      "metadata": {
        "colab": {
          "base_uri": "https://localhost:8080/"
        },
        "id": "fThdodcAo8Yz",
        "outputId": "418e2190-9b0b-44db-9e96-24f3f1b61cc1"
      },
      "outputs": [
        {
          "data": {
            "text/plain": [
              "{'id': '0',\n",
              " 'tokens': ['EU',\n",
              "  'rejects',\n",
              "  'German',\n",
              "  'call',\n",
              "  'to',\n",
              "  'boycott',\n",
              "  'British',\n",
              "  'lamb',\n",
              "  '.'],\n",
              " 'pos_tags': [22, 42, 16, 21, 35, 37, 16, 21, 7],\n",
              " 'chunk_tags': [11, 21, 11, 12, 21, 22, 11, 12, 0],\n",
              " 'ner_tags': [3, 0, 7, 0, 0, 0, 7, 0, 0]}"
            ]
          },
          "execution_count": 5,
          "metadata": {},
          "output_type": "execute_result"
        }
      ],
      "source": [
        "raw_datasets[\"train\"][0]"
      ]
    },
    {
      "cell_type": "code",
      "execution_count": null,
      "metadata": {
        "id": "IdT8zs5Wo8Y0"
      },
      "outputs": [],
      "source": [
        "raw_datasets = raw_datasets.remove_columns([\"chunk_tags\"])"
      ]
    },
    {
      "cell_type": "code",
      "execution_count": null,
      "metadata": {
        "id": "LCvXQsXuo8Y0"
      },
      "outputs": [],
      "source": [
        "raw_datasets[\"test_es\"] = load_dataset(\"conll2002\", \"es\", split=\"test\")\n",
        "raw_datasets[\"test_nl\"] = load_dataset(\"conll2002\", \"nl\", split=\"test\")"
      ]
    },
    {
      "cell_type": "code",
      "execution_count": null,
      "metadata": {
        "colab": {
          "base_uri": "https://localhost:8080/"
        },
        "id": "vE5IFLZVo8Y0",
        "outputId": "03aaf74c-9dd8-4a42-fcb2-bb3c5188e86d"
      },
      "outputs": [
        {
          "data": {
            "text/plain": [
              "['O', 'B-PER', 'I-PER', 'B-ORG', 'I-ORG', 'B-LOC', 'I-LOC', 'B-MISC', 'I-MISC']"
            ]
          },
          "execution_count": 8,
          "metadata": {},
          "output_type": "execute_result"
        }
      ],
      "source": [
        "label_names = raw_datasets[\"train\"].features[\"ner_tags\"].feature.names\n",
        "label_names"
      ]
    },
    {
      "cell_type": "code",
      "execution_count": null,
      "metadata": {
        "id": "4vLFZhgVo8Y1"
      },
      "outputs": [],
      "source": [
        "raw_datasets = raw_datasets.remove_columns([\"id\", \"pos_tags\"])"
      ]
    },
    {
      "cell_type": "code",
      "execution_count": null,
      "metadata": {
        "id": "mfSCjN_Do8Y1"
      },
      "outputs": [],
      "source": [
        "def readfile(filename, enc=\"utf-8\", sep=\" \"):\n",
        "    f = open(filename, encoding=enc)\n",
        "    data = []\n",
        "    sentence = []\n",
        "    label = []\n",
        "    for line in f:\n",
        "        if len(line) == 0 or line.startswith(\"-DOCSTART\") or line[0] == \"\\n\":\n",
        "            # check if line has content\n",
        "            if len(sentence) > 0:\n",
        "                # if line has no content, construct a new sentence\n",
        "                data.append((sentence, label))\n",
        "                sentence = []\n",
        "                label = []\n",
        "            continue\n",
        "        splits = line.split(sep)\n",
        "        sentence.append(splits[0])\n",
        "        label.append(splits[-1][:-1])\n",
        "    return data"
      ]
    },
    {
      "cell_type": "code",
      "execution_count": null,
      "metadata": {
        "id": "pH7MpgO2mZiG"
      },
      "outputs": [],
      "source": [
        "arabic_test = \"./aner_test_updated.txt\""
      ]
    },
    {
      "cell_type": "code",
      "execution_count": null,
      "metadata": {
        "id": "sfxSvTIGo8Y1"
      },
      "outputs": [],
      "source": [
        "data = readfile(arabic_test)"
      ]
    },
    {
      "cell_type": "code",
      "execution_count": null,
      "metadata": {
        "id": "JtCWLj5so8Y2"
      },
      "outputs": [],
      "source": [
        "# change the PERS label to PER\n",
        "data = [(ws, [l if l[2:] != \"PERS\" else l[:-1] for l in ls]) for (ws, ls) in data]"
      ]
    },
    {
      "cell_type": "code",
      "execution_count": null,
      "metadata": {
        "id": "yMdIr-fSo8Y2"
      },
      "outputs": [],
      "source": [
        "# change labels to index instead\n",
        "data = [(ws, [label_names.index(l) for l in ls]) for (ws, ls) in data]"
      ]
    },
    {
      "cell_type": "code",
      "execution_count": null,
      "metadata": {
        "id": "eAOqwBQvmZiG",
        "outputId": "78113dfd-78e2-427a-dc23-8bea372de5fa"
      },
      "outputs": [
        {
          "name": "stdout",
          "output_type": "stream",
          "text": [
            "['شركات', 'موجة', 'الهجمات', 'الانتحارية', 'التي', 'هزت', 'أفغانستان', 'هذا', 'الشهر', '(', 'منها', 'ثلاث', 'هجمات', 'يوم', 'الاثنين', '،', 'وهو', 'ما', 'رفع', 'مجموع', 'هذه', 'الهجمات', 'منذ', '2005', 'إلى', '69', ')', 'تذكيراً', 'محزناً', 'بأن', 'وزير', 'الدفاع', 'دونالد', 'رامسفيلد', '،', 'الذي', 'يتعرض', 'حالياً', 'لانتقادات', 'لاذعة', 'لدوره', 'في', 'العراق', '،', 'لم', 'يكن', 'مهندس', 'حرب', 'فاشلة', 'واحدة', '،', 'بل', 'حربين', 'فاشلتين', '،', 'وصاحب', 'رؤية', 'خطيرة', 'حول', 'كيفية', 'استعمال', 'القوة', 'الأميركية', '.']\n"
          ]
        }
      ],
      "source": [
        "print(data[6][0])"
      ]
    },
    {
      "cell_type": "code",
      "execution_count": null,
      "metadata": {
        "id": "OtgyMxR8mZiH"
      },
      "outputs": [],
      "source": [
        "# # remove punctuation\n",
        "# # running this cell will cause the data to be different from the standards.\n",
        "\n",
        "# import string\n",
        "# from unicodedata import category\n",
        "\n",
        "# # https://en.wikipedia.org/wiki/Unicode_character_property\n",
        "\n",
        "# new_data = []\n",
        "\n",
        "# for ws, ls in data:\n",
        "#     words, labels = [], []\n",
        "#     for i in range(len(ws)):\n",
        "#         if len(ws[i]) > 1:\n",
        "#             words.append(ws[i])\n",
        "#             labels.append(ls[i])\n",
        "#         # elif len(ws[i]) == 1:\n",
        "#         else:\n",
        "#             # this may be a punctuation\n",
        "#             if ws[i] not in string.punctuation and category(ws[i])[0] != \"P\":\n",
        "#                 words.append(ws[i])\n",
        "#                 labels.append(ls[i])\n",
        "#     new_data.append((words, labels))\n",
        "\n",
        "\n",
        "# data = new_data.copy()"
      ]
    },
    {
      "cell_type": "code",
      "execution_count": null,
      "metadata": {
        "id": "GGa7LghJmZiH",
        "outputId": "8b4cec13-23cc-4384-99fa-0fa67e9b40f3"
      },
      "outputs": [
        {
          "name": "stdout",
          "output_type": "stream",
          "text": [
            "['شركات', 'موجة', 'الهجمات', 'الانتحارية', 'التي', 'هزت', 'أفغانستان', 'هذا', 'الشهر', '(', 'منها', 'ثلاث', 'هجمات', 'يوم', 'الاثنين', '،', 'وهو', 'ما', 'رفع', 'مجموع', 'هذه', 'الهجمات', 'منذ', '2005', 'إلى', '69', ')', 'تذكيراً', 'محزناً', 'بأن', 'وزير', 'الدفاع', 'دونالد', 'رامسفيلد', '،', 'الذي', 'يتعرض', 'حالياً', 'لانتقادات', 'لاذعة', 'لدوره', 'في', 'العراق', '،', 'لم', 'يكن', 'مهندس', 'حرب', 'فاشلة', 'واحدة', '،', 'بل', 'حربين', 'فاشلتين', '،', 'وصاحب', 'رؤية', 'خطيرة', 'حول', 'كيفية', 'استعمال', 'القوة', 'الأميركية', '.']\n"
          ]
        }
      ],
      "source": [
        "print(data[6][0])"
      ]
    },
    {
      "cell_type": "code",
      "execution_count": null,
      "metadata": {
        "id": "ybt8K7WCo8Y2"
      },
      "outputs": [],
      "source": [
        "from datasets import Dataset\n",
        "\n",
        "raw_datasets[\"test_ar\"] = Dataset.from_dict(\n",
        "    {\"tokens\": [ws for ws, _ in data], \"ner_tags\": [ls for _, ls in data]}\n",
        ")"
      ]
    },
    {
      "cell_type": "code",
      "execution_count": null,
      "metadata": {
        "colab": {
          "base_uri": "https://localhost:8080/"
        },
        "id": "L26E-dsUo8Y2",
        "outputId": "0b270204-0169-4562-eb7d-2d3d2b9c1226"
      },
      "outputs": [
        {
          "data": {
            "text/plain": [
              "DatasetDict({\n",
              "    train: Dataset({\n",
              "        features: ['tokens', 'ner_tags'],\n",
              "        num_rows: 14041\n",
              "    })\n",
              "    validation: Dataset({\n",
              "        features: ['tokens', 'ner_tags'],\n",
              "        num_rows: 3250\n",
              "    })\n",
              "    test: Dataset({\n",
              "        features: ['tokens', 'ner_tags'],\n",
              "        num_rows: 3453\n",
              "    })\n",
              "    test_es: Dataset({\n",
              "        features: ['tokens', 'ner_tags'],\n",
              "        num_rows: 1518\n",
              "    })\n",
              "    test_nl: Dataset({\n",
              "        features: ['tokens', 'ner_tags'],\n",
              "        num_rows: 5196\n",
              "    })\n",
              "    test_ar: Dataset({\n",
              "        features: ['tokens', 'ner_tags'],\n",
              "        num_rows: 924\n",
              "    })\n",
              "})"
            ]
          },
          "execution_count": 19,
          "metadata": {},
          "output_type": "execute_result"
        }
      ],
      "source": [
        "raw_datasets"
      ]
    },
    {
      "cell_type": "markdown",
      "metadata": {
        "id": "J5aUErAImZiH"
      },
      "source": [
        "**The following 4 cells updates the labels by removing the MISC label**"
      ]
    },
    {
      "cell_type": "code",
      "execution_count": null,
      "metadata": {
        "id": "-KBf7seZmZiI",
        "outputId": "021b5cd5-0b38-470b-e8ba-09c0b18f431e"
      },
      "outputs": [
        {
          "data": {
            "text/plain": [
              "{'tokens': ['EU',\n",
              "  'rejects',\n",
              "  'German',\n",
              "  'call',\n",
              "  'to',\n",
              "  'boycott',\n",
              "  'British',\n",
              "  'lamb',\n",
              "  '.'],\n",
              " 'ner_tags': [3, 0, 7, 0, 0, 0, 7, 0, 0]}"
            ]
          },
          "execution_count": 20,
          "metadata": {},
          "output_type": "execute_result"
        }
      ],
      "source": [
        "raw_datasets[\"train\"][0]"
      ]
    },
    {
      "cell_type": "code",
      "execution_count": null,
      "metadata": {
        "id": "oXsFTQWBmZiI",
        "outputId": "d9f8e635-025a-4cb7-a428-4ebc317f9866",
        "colab": {
          "referenced_widgets": [
            "c3dc6c850e7d4ff0a93bc52bb97e2046"
          ]
        }
      },
      "outputs": [
        {
          "data": {
            "application/vnd.jupyter.widget-view+json": {
              "model_id": "c3dc6c850e7d4ff0a93bc52bb97e2046",
              "version_major": 2,
              "version_minor": 0
            },
            "text/plain": [
              "Map:   0%|          | 0/924 [00:00<?, ? examples/s]"
            ]
          },
          "metadata": {},
          "output_type": "display_data"
        }
      ],
      "source": [
        "def change_labels(batch):\n",
        "    batch[\"ner_tags\"] = [\n",
        "        [l if \"MISC\" not in label_names[l] else label_names.index(\"O\") for l in ls]\n",
        "        for ls in batch[\"ner_tags\"]\n",
        "    ]\n",
        "    return batch\n",
        "\n",
        "\n",
        "raw_datasets = raw_datasets.map(change_labels, batched=True)"
      ]
    },
    {
      "cell_type": "code",
      "execution_count": null,
      "metadata": {
        "id": "W90KnbyJmZiJ",
        "outputId": "0f548ffa-6210-4aea-976e-7897c06b3858"
      },
      "outputs": [
        {
          "data": {
            "text/plain": [
              "{'tokens': ['EU',\n",
              "  'rejects',\n",
              "  'German',\n",
              "  'call',\n",
              "  'to',\n",
              "  'boycott',\n",
              "  'British',\n",
              "  'lamb',\n",
              "  '.'],\n",
              " 'ner_tags': [3, 0, 0, 0, 0, 0, 0, 0, 0]}"
            ]
          },
          "execution_count": 22,
          "metadata": {},
          "output_type": "execute_result"
        }
      ],
      "source": [
        "raw_datasets[\"train\"][0]"
      ]
    },
    {
      "cell_type": "code",
      "execution_count": null,
      "metadata": {
        "id": "YVcV4jT2mZiJ",
        "outputId": "16b824e0-6705-4140-9bb5-0d6041e02f8a"
      },
      "outputs": [
        {
          "data": {
            "text/plain": [
              "['O', 'B-PER', 'I-PER', 'B-ORG', 'I-ORG', 'B-LOC', 'I-LOC']"
            ]
          },
          "execution_count": 23,
          "metadata": {},
          "output_type": "execute_result"
        }
      ],
      "source": [
        "label_names = label_names[:-2]\n",
        "label_names"
      ]
    },
    {
      "cell_type": "code",
      "execution_count": null,
      "metadata": {
        "id": "Q56d6oHko8Y3"
      },
      "outputs": [],
      "source": [
        "from transformers import AutoTokenizer\n",
        "\n",
        "model_ckpt = \"xlm-roberta-base\"\n",
        "tokenizer = AutoTokenizer.from_pretrained(model_ckpt)"
      ]
    },
    {
      "cell_type": "code",
      "execution_count": null,
      "metadata": {
        "colab": {
          "base_uri": "https://localhost:8080/"
        },
        "id": "oJp0Po6qo8Y3",
        "outputId": "d110ea26-05d6-4a62-e87f-57180c30a318"
      },
      "outputs": [
        {
          "data": {
            "text/plain": [
              "['<s>',\n",
              " '▁EU',\n",
              " '▁re',\n",
              " 'ject',\n",
              " 's',\n",
              " '▁German',\n",
              " '▁call',\n",
              " '▁to',\n",
              " '▁boy',\n",
              " 'cot',\n",
              " 't',\n",
              " '▁British',\n",
              " '▁la',\n",
              " 'mb',\n",
              " '▁',\n",
              " '.',\n",
              " '</s>']"
            ]
          },
          "execution_count": 25,
          "metadata": {},
          "output_type": "execute_result"
        }
      ],
      "source": [
        "inputs = tokenizer(raw_datasets[\"train\"][0][\"tokens\"], is_split_into_words=True)\n",
        "inputs.tokens()"
      ]
    },
    {
      "cell_type": "code",
      "execution_count": null,
      "metadata": {
        "colab": {
          "base_uri": "https://localhost:8080/"
        },
        "id": "Yu8fik55o8Y3",
        "outputId": "767712aa-ed30-4209-c089-6f8300fe0cb9"
      },
      "outputs": [
        {
          "data": {
            "text/plain": [
              "[None, 0, 1, 1, 1, 2, 3, 4, 5, 5, 5, 6, 7, 7, 8, 8, None]"
            ]
          },
          "execution_count": 26,
          "metadata": {},
          "output_type": "execute_result"
        }
      ],
      "source": [
        "inputs.word_ids()"
      ]
    },
    {
      "cell_type": "code",
      "execution_count": null,
      "metadata": {
        "id": "5r3R_i7wo8Y3"
      },
      "outputs": [],
      "source": [
        "def align_labels_to_tokens(labels, word_ids):\n",
        "    new_labels = []\n",
        "    current_word = None\n",
        "    for word_id in word_ids:\n",
        "        if word_id != current_word:\n",
        "            current_word = word_id\n",
        "            label = -100 if word_id is None else labels[word_id]\n",
        "            new_labels.append(label)\n",
        "        elif word_id is None:\n",
        "            new_labels.append(-100)\n",
        "        else:\n",
        "            label = labels[word_id]\n",
        "            if label % 2 == 1:\n",
        "                label += 1\n",
        "            new_labels.append(label)\n",
        "    return new_labels"
      ]
    },
    {
      "cell_type": "code",
      "execution_count": null,
      "metadata": {
        "colab": {
          "base_uri": "https://localhost:8080/"
        },
        "id": "Z-ShiHqno8Y4",
        "outputId": "92167f76-a432-4f03-c22a-8a294d0a2598"
      },
      "outputs": [
        {
          "name": "stdout",
          "output_type": "stream",
          "text": [
            "[3, 0, 0, 0, 0, 0, 0, 0, 0]\n",
            "[-100, 3, 0, 0, 0, 0, 0, 0, 0, 0, 0, 0, 0, 0, 0, 0, -100]\n"
          ]
        }
      ],
      "source": [
        "print(raw_datasets[\"train\"][0][\"ner_tags\"])\n",
        "print(align_labels_to_tokens(raw_datasets[\"train\"][0][\"ner_tags\"], inputs.word_ids()))"
      ]
    },
    {
      "cell_type": "code",
      "execution_count": null,
      "metadata": {
        "id": "PGcgvAayo8Y4"
      },
      "outputs": [],
      "source": [
        "def tokenize_and_align_labels(batch):\n",
        "    tokenized_inputs = tokenizer(\n",
        "        batch[\"tokens\"], is_split_into_words=True, truncation=True\n",
        "    )\n",
        "\n",
        "    new_labels = []\n",
        "    all_labels = batch[\"ner_tags\"]\n",
        "    for i, labels in enumerate(all_labels):\n",
        "        new_labels.append(align_labels_to_tokens(labels, tokenized_inputs.word_ids(i)))\n",
        "\n",
        "    tokenized_inputs[\"labels\"] = new_labels\n",
        "    return tokenized_inputs"
      ]
    },
    {
      "cell_type": "code",
      "execution_count": null,
      "metadata": {
        "colab": {
          "base_uri": "https://localhost:8080/",
          "height": 81,
          "referenced_widgets": [
            "50c19fd555d14ce7bc7179024f0602e5",
            "e7ae1eb55ffd4205a83fe0fc05529c2f",
            "daa444889596481b9d4dca33eb4bbcb0",
            "d684bdbb19ef42d2ac323f36ee46541e",
            "85254cf838674ac2a0d0a296ad6fcf31",
            "96d66577eb3b4b86bb4bcfe7ec113acb",
            "159f070d36f74b0c9c7e039bedebb1ab",
            "978ce0dec20f434bb1010c45c092506b",
            "7605ab58b68243c88d318f2b4c2a89ce",
            "4da84e33b0ba4072b77ef162bf55fbbc",
            "7b7072cd3744492290e58f2afbfc2327",
            "006848432f4147b48d73f01e53e8678e",
            "260fef4dc0684264984346aedfc2bb80",
            "cedd7fd434cb49e1847f34ff43111342",
            "af22e6a6e55f48c38ec4e76f39abba5f",
            "66d708118d9b428086cf3232d22fef23",
            "d609512a8fec494ea8ded84deded6918",
            "33fca871c087425bba21263a7397a0bf",
            "453920010d8644409982213e0ea2f035",
            "5f8835ead5d64a2d84ed01206dd2c479",
            "d88f085af1624f89ae10d984a0845ad5",
            "87605727fd334b198439e3026f8d3d98",
            "6174879e04f740f5975ffb0f6fcca79a",
            "5babd8528b9c41b8af5175e658178568"
          ]
        },
        "id": "8GK5f2RAo8Y4",
        "outputId": "82e181f5-8dc4-4dbb-f481-599d0abc1032"
      },
      "outputs": [
        {
          "data": {
            "application/vnd.jupyter.widget-view+json": {
              "model_id": "6174879e04f740f5975ffb0f6fcca79a",
              "version_major": 2,
              "version_minor": 0
            },
            "text/plain": [
              "Map:   0%|          | 0/3250 [00:00<?, ? examples/s]"
            ]
          },
          "metadata": {},
          "output_type": "display_data"
        },
        {
          "data": {
            "application/vnd.jupyter.widget-view+json": {
              "model_id": "5babd8528b9c41b8af5175e658178568",
              "version_major": 2,
              "version_minor": 0
            },
            "text/plain": [
              "Map:   0%|          | 0/924 [00:00<?, ? examples/s]"
            ]
          },
          "metadata": {},
          "output_type": "display_data"
        }
      ],
      "source": [
        "tokenized_datasets = raw_datasets.map(\n",
        "    tokenize_and_align_labels,\n",
        "    batched=True,\n",
        "    remove_columns=raw_datasets[\"train\"].column_names,\n",
        ")"
      ]
    },
    {
      "cell_type": "code",
      "execution_count": null,
      "metadata": {
        "colab": {
          "base_uri": "https://localhost:8080/"
        },
        "id": "-6sFmqk6o8Y4",
        "outputId": "8b544b2a-51b9-4b63-af6b-d764cb2e6a2f"
      },
      "outputs": [
        {
          "data": {
            "text/plain": [
              "{'input_ids': [0,\n",
              "  3747,\n",
              "  456,\n",
              "  75161,\n",
              "  7,\n",
              "  30839,\n",
              "  11782,\n",
              "  47,\n",
              "  25299,\n",
              "  47924,\n",
              "  18,\n",
              "  56101,\n",
              "  21,\n",
              "  6492,\n",
              "  6,\n",
              "  5,\n",
              "  2],\n",
              " 'attention_mask': [1, 1, 1, 1, 1, 1, 1, 1, 1, 1, 1, 1, 1, 1, 1, 1, 1],\n",
              " 'labels': [-100, 3, 0, 0, 0, 0, 0, 0, 0, 0, 0, 0, 0, 0, 0, 0, -100]}"
            ]
          },
          "execution_count": 31,
          "metadata": {},
          "output_type": "execute_result"
        }
      ],
      "source": [
        "tokenized_datasets[\"train\"][0]"
      ]
    },
    {
      "cell_type": "code",
      "execution_count": null,
      "metadata": {
        "id": "-5c8F8Zqo8Y4"
      },
      "outputs": [],
      "source": [
        "from transformers import DataCollatorForTokenClassification\n",
        "\n",
        "data_collator = DataCollatorForTokenClassification(tokenizer=tokenizer)"
      ]
    },
    {
      "cell_type": "code",
      "execution_count": null,
      "metadata": {
        "colab": {
          "base_uri": "https://localhost:8080/"
        },
        "id": "2Be_uNxJo8Y4",
        "outputId": "496e9669-8f0a-4701-92dd-1d8bdfac9057"
      },
      "outputs": [
        {
          "name": "stderr",
          "output_type": "stream",
          "text": [
            "You're using a XLMRobertaTokenizerFast tokenizer. Please note that with a fast tokenizer, using the `__call__` method is faster than using a method to encode the text followed by a call to the `pad` method to get a padded encoding.\n"
          ]
        },
        {
          "data": {
            "text/plain": [
              "tensor([[-100,    3,    0,    0,    0,    0,    0,    0,    0,    0,    0,    0,\n",
              "            0,    0,    0,    0, -100],\n",
              "        [-100,    1,    2,    2, -100, -100, -100, -100, -100, -100, -100, -100,\n",
              "         -100, -100, -100, -100, -100]])"
            ]
          },
          "execution_count": 33,
          "metadata": {},
          "output_type": "execute_result"
        }
      ],
      "source": [
        "batch = data_collator([tokenized_datasets[\"train\"][i] for i in range(2)])\n",
        "batch[\"labels\"]"
      ]
    },
    {
      "cell_type": "code",
      "execution_count": null,
      "metadata": {
        "colab": {
          "base_uri": "https://localhost:8080/"
        },
        "id": "0R5PtHj9o8Y4",
        "outputId": "c0c388ad-d03b-4b61-e666-44c25a53c1b6"
      },
      "outputs": [
        {
          "name": "stdout",
          "output_type": "stream",
          "text": [
            "[-100, 3, 0, 0, 0, 0, 0, 0, 0, 0, 0, 0, 0, 0, 0, 0, -100]\n",
            "[-100, 1, 2, 2, -100]\n"
          ]
        }
      ],
      "source": [
        "for i in range(2):\n",
        "    print(tokenized_datasets[\"train\"][i][\"labels\"])"
      ]
    },
    {
      "cell_type": "code",
      "execution_count": null,
      "metadata": {
        "id": "NT-5RosTo8Y5"
      },
      "outputs": [],
      "source": [
        "import evaluate\n",
        "\n",
        "metric = evaluate.load(\"seqeval\")"
      ]
    },
    {
      "cell_type": "code",
      "execution_count": null,
      "metadata": {
        "colab": {
          "base_uri": "https://localhost:8080/"
        },
        "id": "ussT1-Ajo8Y5",
        "outputId": "b0f03c5e-a089-4f65-fd9e-ce107eed9864"
      },
      "outputs": [
        {
          "data": {
            "text/plain": [
              "EvaluationModule(name: \"seqeval\", module_type: \"metric\", features: {'predictions': Sequence(feature=Value(dtype='string', id='label'), length=-1, id='sequence'), 'references': Sequence(feature=Value(dtype='string', id='label'), length=-1, id='sequence')}, usage: \"\"\"\n",
              "Produces labelling scores along with its sufficient statistics\n",
              "from a source against one or more references.\n",
              "\n",
              "Args:\n",
              "    predictions: List of List of predicted labels (Estimated targets as returned by a tagger)\n",
              "    references: List of List of reference labels (Ground truth (correct) target values)\n",
              "    suffix: True if the IOB prefix is after type, False otherwise. default: False\n",
              "    scheme: Specify target tagging scheme. Should be one of [\"IOB1\", \"IOB2\", \"IOE1\", \"IOE2\", \"IOBES\", \"BILOU\"].\n",
              "        default: None\n",
              "    mode: Whether to count correct entity labels with incorrect I/B tags as true positives or not.\n",
              "        If you want to only count exact matches, pass mode=\"strict\". default: None.\n",
              "    sample_weight: Array-like of shape (n_samples,), weights for individual samples. default: None\n",
              "    zero_division: Which value to substitute as a metric value when encountering zero division. Should be on of 0, 1,\n",
              "        \"warn\". \"warn\" acts as 0, but the warning is raised.\n",
              "\n",
              "Returns:\n",
              "    'scores': dict. Summary of the scores for overall and per type\n",
              "        Overall:\n",
              "            'accuracy': accuracy,\n",
              "            'precision': precision,\n",
              "            'recall': recall,\n",
              "            'f1': F1 score, also known as balanced F-score or F-measure,\n",
              "        Per type:\n",
              "            'precision': precision,\n",
              "            'recall': recall,\n",
              "            'f1': F1 score, also known as balanced F-score or F-measure\n",
              "Examples:\n",
              "\n",
              "    >>> predictions = [['O', 'O', 'B-MISC', 'I-MISC', 'I-MISC', 'I-MISC', 'O'], ['B-PER', 'I-PER', 'O']]\n",
              "    >>> references = [['O', 'O', 'O', 'B-MISC', 'I-MISC', 'I-MISC', 'O'], ['B-PER', 'I-PER', 'O']]\n",
              "    >>> seqeval = evaluate.load(\"seqeval\")\n",
              "    >>> results = seqeval.compute(predictions=predictions, references=references)\n",
              "    >>> print(list(results.keys()))\n",
              "    ['MISC', 'PER', 'overall_precision', 'overall_recall', 'overall_f1', 'overall_accuracy']\n",
              "    >>> print(results[\"overall_f1\"])\n",
              "    0.5\n",
              "    >>> print(results[\"PER\"][\"f1\"])\n",
              "    1.0\n",
              "\"\"\", stored examples: 0)"
            ]
          },
          "execution_count": 36,
          "metadata": {},
          "output_type": "execute_result"
        }
      ],
      "source": [
        "metric"
      ]
    },
    {
      "cell_type": "code",
      "execution_count": null,
      "metadata": {
        "colab": {
          "base_uri": "https://localhost:8080/"
        },
        "id": "PdQ24_HTo8Y5",
        "outputId": "92772ba2-1e44-4a5c-8979-96e2cffea70e"
      },
      "outputs": [
        {
          "data": {
            "text/plain": [
              "['B-ORG', 'O', 'O', 'O', 'O', 'O', 'O', 'O', 'O']"
            ]
          },
          "execution_count": 37,
          "metadata": {},
          "output_type": "execute_result"
        }
      ],
      "source": [
        "labels = raw_datasets[\"train\"][0][\"ner_tags\"]\n",
        "labels = [label_names[i] for i in labels]\n",
        "labels"
      ]
    },
    {
      "cell_type": "code",
      "execution_count": null,
      "metadata": {
        "colab": {
          "base_uri": "https://localhost:8080/"
        },
        "id": "ZZDhuLOgo8Y5",
        "outputId": "ad5b0371-9b8c-4085-9f81-b3845f0d59ac"
      },
      "outputs": [
        {
          "data": {
            "text/plain": [
              "{'ORG': {'precision': 1.0, 'recall': 1.0, 'f1': 1.0, 'number': 1},\n",
              " 'overall_precision': 1.0,\n",
              " 'overall_recall': 1.0,\n",
              " 'overall_f1': 1.0,\n",
              " 'overall_accuracy': 1.0}"
            ]
          },
          "execution_count": 38,
          "metadata": {},
          "output_type": "execute_result"
        }
      ],
      "source": [
        "predictions = labels.copy()\n",
        "predictions[2] = \"O\"\n",
        "metric.compute(predictions=[predictions], references=[labels])"
      ]
    },
    {
      "cell_type": "code",
      "execution_count": null,
      "metadata": {
        "id": "DzW9-cbgo8Y5"
      },
      "outputs": [],
      "source": [
        "def compute_metrics(eval_preds):\n",
        "    logits, labels = eval_preds\n",
        "    preds = np.argmax(logits, axis=-1)\n",
        "\n",
        "    clean_labels = [[label_names[l] for l in ls if l != -100] for ls in labels]\n",
        "    clean_preds = [\n",
        "        [label_names[p] for (p, l) in zip(ps, ls) if l != -100]\n",
        "        for (ps, ls) in zip(preds, labels)\n",
        "    ]\n",
        "\n",
        "    metrics = metric.compute(predictions=clean_preds, references=clean_labels)\n",
        "    overall_metrics = {\n",
        "        \"accuracy\": metrics[\"overall_accuracy\"],\n",
        "        \"precision\": metrics[\"overall_precision\"],\n",
        "        \"recall\": metrics[\"overall_recall\"],\n",
        "        \"f1\": metrics[\"overall_f1\"],\n",
        "    }\n",
        "    return overall_metrics"
      ]
    },
    {
      "cell_type": "code",
      "execution_count": null,
      "metadata": {
        "id": "ETLYDwOio8Y5"
      },
      "outputs": [],
      "source": [
        "id2label = {i: label for i, label in enumerate(label_names)}\n",
        "label2id = {v: k for k, v in id2label.items()}"
      ]
    },
    {
      "cell_type": "markdown",
      "metadata": {
        "id": "azkQObYLmZiT"
      },
      "source": [
        "## Model without CRF\n",
        "\n",
        "Use the following cell in case of models with cross entropy loss instead of crf loss"
      ]
    },
    {
      "cell_type": "code",
      "execution_count": null,
      "metadata": {
        "id": "sa5ppxq8o8Y6"
      },
      "outputs": [],
      "source": [
        "# DONT RUN THIS CELL. USE THE MODEL_INIT FUNCTION.\n",
        "\n",
        "# from transformers import AutoModelForTokenClassification\n",
        "\n",
        "# model = AutoModelForTokenClassification.from_pretrained(\n",
        "#     model_ckpt,\n",
        "#     id2label=id2label,\n",
        "#     label2id=label2id,\n",
        "# )"
      ]
    },
    {
      "cell_type": "markdown",
      "metadata": {
        "id": "8h0ptgc2mZiU"
      },
      "source": [
        "## Model with CRF\n",
        "\n",
        "The following cells in case of models with crf loss. XLM RoBERTa and mBERT have two different setups as follows. Change the `model_ckpt` accordingly."
      ]
    },
    {
      "cell_type": "markdown",
      "metadata": {
        "id": "E2KVYLhDmZiU"
      },
      "source": [
        "### XLM RoBERTa"
      ]
    },
    {
      "cell_type": "code",
      "execution_count": null,
      "metadata": {
        "id": "H6hqLE57o8Y-"
      },
      "outputs": [],
      "source": [
        "import torch.nn as nn\n",
        "from torchcrf import CRF\n",
        "from transformers import RobertaConfig\n",
        "from transformers.modeling_outputs import TokenClassifierOutput\n",
        "from transformers.models.roberta.modeling_roberta import RobertaModel\n",
        "from transformers.models.roberta.modeling_roberta import RobertaPreTrainedModel\n",
        "\n",
        "\n",
        "class CRFXLMRobertaForTokenClassification(RobertaPreTrainedModel):\n",
        "    config_class = RobertaConfig\n",
        "\n",
        "    def __init__(self, config):\n",
        "        super().__init__(config)\n",
        "        self.num_labels = config.num_labels\n",
        "        # Load model body\n",
        "        self.roberta = RobertaModel(config, add_pooling_layer=False)\n",
        "        # Set up token classification head\n",
        "        self.dropout = nn.Dropout(config.hidden_dropout_prob)\n",
        "        self.classifier = nn.Linear(config.hidden_size, config.num_labels)\n",
        "        self.crf = CRF(config.num_labels, batch_first=True)\n",
        "        # Load and initialize weights\n",
        "        self.init_weights()\n",
        "\n",
        "    def forward(\n",
        "        self,\n",
        "        input_ids=None,\n",
        "        attention_mask=None,\n",
        "        token_type_ids=None,\n",
        "        labels=None,\n",
        "        **kwargs\n",
        "    ):\n",
        "        # Use model body to get encoder representations\n",
        "        outputs = self.roberta(\n",
        "            input_ids,\n",
        "            attention_mask=attention_mask,\n",
        "            token_type_ids=token_type_ids,\n",
        "            **kwargs\n",
        "        )\n",
        "        # Apply classifier to encoder representation\n",
        "        sequence_output = self.dropout(outputs[0])\n",
        "        logits = self.classifier(sequence_output)\n",
        "        # Calculate losses\n",
        "        loss = None\n",
        "        if labels is not None:\n",
        "            # remove [CLS] token\n",
        "            logits_ = logits[:, 1:, :]\n",
        "            labels_ = labels[:, 1:]\n",
        "            labels_mask = labels_.ne(-100).int()\n",
        "            labels_ = labels_ * labels_mask\n",
        "            attention_mask_ = attention_mask[:, 1:]\n",
        "            loss = -1 * self.crf(\n",
        "                emissions=logits_,\n",
        "                tags=labels_,\n",
        "                mask=attention_mask_.bool(),\n",
        "                reduction=\"mean\",\n",
        "            )\n",
        "        # Return model output object\n",
        "        return TokenClassifierOutput(\n",
        "            loss=loss,\n",
        "            logits=logits,\n",
        "            hidden_states=outputs.hidden_states,\n",
        "            attentions=outputs.attentions,\n",
        "        )"
      ]
    },
    {
      "cell_type": "markdown",
      "metadata": {
        "id": "hCH9uFmzmZiU"
      },
      "source": [
        "### mBERT"
      ]
    },
    {
      "cell_type": "code",
      "execution_count": null,
      "metadata": {
        "id": "tUWdhXMSmZiU"
      },
      "outputs": [],
      "source": [
        "# import torch.nn as nn\n",
        "# from torchcrf import CRF\n",
        "# from transformers import BertConfig\n",
        "# from transformers.modeling_outputs import TokenClassifierOutput\n",
        "# from transformers.models.bert.modeling_bert import BertModel\n",
        "# from transformers.models.bert.modeling_bert import BertPreTrainedModel\n",
        "\n",
        "\n",
        "# class CRFMBERTForTokenClassification(BertPreTrainedModel):\n",
        "#     config_class = BertConfig\n",
        "\n",
        "#     def __init__(self, config):\n",
        "#         super().__init__(config)\n",
        "#         self.num_labels = config.num_labels\n",
        "#         # Load model body\n",
        "#         self.bert = BertModel(config, add_pooling_layer=False)\n",
        "#         # Set up token classification head\n",
        "#         self.dropout = nn.Dropout(config.hidden_dropout_prob)\n",
        "#         self.classifier = nn.Linear(config.hidden_size, config.num_labels)\n",
        "#         self.crf = CRF(config.num_labels, batch_first=True)\n",
        "#         # Load and initialize weights\n",
        "#         self.init_weights()\n",
        "\n",
        "#     def forward(self, input_ids=None, attention_mask=None,\n",
        "#                 token_type_ids=None, labels=None, **kwargs):\n",
        "#         # Use model body to get encoder representations\n",
        "#         outputs = self.bert(input_ids, attention_mask=attention_mask,\n",
        "#                             token_type_ids=token_type_ids, **kwargs)\n",
        "#         # Apply classifier to encoder representation\n",
        "#         sequence_output = self.dropout(outputs[0])\n",
        "#         logits = self.classifier(sequence_output)\n",
        "#         # Calculate losses\n",
        "#         loss = None\n",
        "#         if labels is not None:\n",
        "#             # remove [CLS] token\n",
        "#             logits_ = logits[:, 1:, :]\n",
        "#             labels_ = labels[:, 1:]\n",
        "#             labels_mask = labels_.ne(-100).int()\n",
        "#             labels_ = labels_ * labels_mask\n",
        "#             attention_mask_ = attention_mask[:, 1:]\n",
        "#             loss = -1 * self.crf(emissions=logits_, tags=labels_,\n",
        "#                                  mask=attention_mask_.bool(), reduction=\"mean\")\n",
        "#         # Return model output object\n",
        "#         return TokenClassifierOutput(loss=loss, logits=logits,\n",
        "#                                      hidden_states=outputs.hidden_states,\n",
        "#                                      attentions=outputs.attentions)"
      ]
    },
    {
      "cell_type": "markdown",
      "metadata": {
        "id": "tq4H41wCmZiU"
      },
      "source": [
        "The `model_init` function works in case of hyperparameter tuning and cover all the models types (with and without CRF)."
      ]
    },
    {
      "cell_type": "code",
      "execution_count": null,
      "metadata": {
        "id": "ibNH76zeo8Y-"
      },
      "outputs": [],
      "source": [
        "from transformers import AutoConfig, AutoModelForTokenClassification\n",
        "\n",
        "\n",
        "def model_init():\n",
        "    roberta_config = AutoConfig.from_pretrained(\n",
        "        model_ckpt, num_labels=len(label_names), id2label=id2label, label2id=label2id\n",
        "    )\n",
        "    # with CRF loss XLM RoBERTa\n",
        "    model = CRFXLMRobertaForTokenClassification.from_pretrained(\n",
        "        model_ckpt, config=roberta_config\n",
        "    )\n",
        "    # # with CRF loss mBERT\n",
        "    # model = CRFMBERTForTokenClassification.from_pretrained(model_ckpt, config=bert_config)\n",
        "    # # without CRF XLM RoBERTa and mBERT\n",
        "    # model = AutoModelForTokenClassification.from_pretrained(model_ckpt,\n",
        "    #                                                         id2label=id2label,\n",
        "    #                                                         label2id=label2id)\n",
        "    return model"
      ]
    },
    {
      "cell_type": "code",
      "execution_count": null,
      "metadata": {
        "id": "q65p1Ldk9FJe"
      },
      "outputs": [],
      "source": [
        "from transformers import TrainingArguments"
      ]
    },
    {
      "cell_type": "code",
      "execution_count": null,
      "metadata": {
        "id": "nOtOB2vJmZiV"
      },
      "outputs": [],
      "source": [
        "model_name = \"xlmroberta-finetuned-ner-crf\"  # put the name of your output model\n",
        "model_path = f\"models/{model_name}\""
      ]
    },
    {
      "cell_type": "code",
      "execution_count": null,
      "metadata": {
        "id": "X71dBHIwo8Y_"
      },
      "outputs": [],
      "source": [
        "# args = TrainingArguments(\n",
        "#     model_path,\n",
        "#     overwrite_output_dir=True,\n",
        "#     load_best_model_at_end=False,\n",
        "#     # metric_for_best_model=\"f1\",\n",
        "#     evaluation_strategy=\"epoch\",\n",
        "#     save_strategy=\"no\",\n",
        "#     per_device_train_batch_size=64,\n",
        "#     per_device_eval_batch_size=64,\n",
        "#     learning_rate=5e-5,\n",
        "#     num_train_epochs=3,\n",
        "#     weight_decay=0.001,\n",
        "#     warmup_ratio=0.2,\n",
        "#     seed=seed, data_seed=seed,\n",
        "# )"
      ]
    },
    {
      "cell_type": "code",
      "execution_count": null,
      "metadata": {
        "id": "k-V0nra-mZiV"
      },
      "outputs": [],
      "source": [
        "from transformers import Trainer"
      ]
    },
    {
      "cell_type": "code",
      "execution_count": null,
      "metadata": {
        "id": "zggRWD48o8Y_"
      },
      "outputs": [],
      "source": [
        "# trainer = Trainer(\n",
        "#     args=args,\n",
        "#     model_init=model_init,\n",
        "#     train_dataset=tokenized_datasets[\"train\"],\n",
        "#     eval_dataset=tokenized_datasets[\"validation\"],\n",
        "#     data_collator=data_collator,\n",
        "#     compute_metrics=compute_metrics,\n",
        "#     tokenizer=tokenizer,\n",
        "# )"
      ]
    },
    {
      "cell_type": "code",
      "execution_count": null,
      "metadata": {
        "id": "f25ppb5T7wqr"
      },
      "outputs": [],
      "source": [
        "# # hp tuning\n",
        "# def hp_space(trial):\n",
        "#     return {\"per_device_train_batch_size\": trial.suggest_categorical(\"per_device_train_batch_size\", [8, 16, 32, 64]),\n",
        "#             \"learning_rate\": trial.suggest_categorical(\"learning_rate\", [1e-5, 2e-5, 3e-5, 4e-5, 5e-5]),\n",
        "#             \"weight_decay\": trial.suggest_categorical(\"weight_decay\", [0.0, 1e-3, 1e-4, 1e-5])}"
      ]
    },
    {
      "cell_type": "code",
      "execution_count": null,
      "metadata": {
        "id": "UDXb56Rz8cvZ"
      },
      "outputs": [],
      "source": [
        "# def compute_objective(metrics):\n",
        "#     return metrics[\"eval_f1\"]"
      ]
    },
    {
      "cell_type": "code",
      "execution_count": null,
      "metadata": {
        "colab": {
          "base_uri": "https://localhost:8080/"
        },
        "id": "VLzXCAAbIIWo",
        "outputId": "f3759884-9726-4f3a-a092-855fbf58d740"
      },
      "outputs": [
        {
          "name": "stderr",
          "output_type": "stream",
          "text": [
            "huggingface/tokenizers: The current process just got forked, after parallelism has already been used. Disabling parallelism to avoid deadlocks...\n",
            "To disable this warning, you can either:\n",
            "\t- Avoid using `tokenizers` before the fork if possible\n",
            "\t- Explicitly set the environment variable TOKENIZERS_PARALLELISM=(true | false)\n",
            "huggingface/tokenizers: The current process just got forked, after parallelism has already been used. Disabling parallelism to avoid deadlocks...\n",
            "To disable this warning, you can either:\n",
            "\t- Avoid using `tokenizers` before the fork if possible\n",
            "\t- Explicitly set the environment variable TOKENIZERS_PARALLELISM=(true | false)\n",
            "huggingface/tokenizers: The current process just got forked, after parallelism has already been used. Disabling parallelism to avoid deadlocks...\n",
            "To disable this warning, you can either:\n",
            "\t- Avoid using `tokenizers` before the fork if possible\n",
            "\t- Explicitly set the environment variable TOKENIZERS_PARALLELISM=(true | false)\n",
            "huggingface/tokenizers: The current process just got forked, after parallelism has already been used. Disabling parallelism to avoid deadlocks...\n",
            "To disable this warning, you can either:\n",
            "\t- Avoid using `tokenizers` before the fork if possible\n",
            "\t- Explicitly set the environment variable TOKENIZERS_PARALLELISM=(true | false)\n",
            "\u001b[34m\u001b[1mwandb\u001b[0m: Currently logged in as: \u001b[33me_hossam96\u001b[0m. Use \u001b[1m`wandb login --relogin`\u001b[0m to force relogin\n",
            "\u001b[34m\u001b[1mwandb\u001b[0m: \u001b[33mWARNING\u001b[0m If you're specifying your api key in code, ensure this code is not shared publicly.\n",
            "\u001b[34m\u001b[1mwandb\u001b[0m: \u001b[33mWARNING\u001b[0m Consider setting the WANDB_API_KEY environment variable, or running `wandb login` from the command line.\n",
            "\u001b[34m\u001b[1mwandb\u001b[0m: Appending key for api.wandb.ai to your netrc file: /root/.netrc\n"
          ]
        },
        {
          "data": {
            "text/plain": [
              "True"
            ]
          },
          "execution_count": 52,
          "metadata": {},
          "output_type": "execute_result"
        }
      ],
      "source": [
        "import json\n",
        "import wandb\n",
        "\n",
        "with open(\"./access_tokens.json\") as f:\n",
        "    login_key = json.load(f)[\"wandb\"][\"login\"]\n",
        "\n",
        "wandb.login(key=login_key)"
      ]
    },
    {
      "cell_type": "code",
      "execution_count": null,
      "metadata": {
        "id": "shxhfGL5IU5M"
      },
      "outputs": [],
      "source": [
        "# # wandb.init(project=\"cross-lingual-ner\", config={\"CRF\": True}, name=\"xlmroberta-crf-en-hp-search\")\n",
        "# %env WANDB_PROJECT=cross-lingual-ner"
      ]
    },
    {
      "cell_type": "code",
      "execution_count": null,
      "metadata": {
        "id": "1NFRblvCwwPH"
      },
      "outputs": [],
      "source": [
        "# import optuna\n",
        "\n",
        "# optuna.logging.set_verbosity(optuna.logging.WARNING)"
      ]
    },
    {
      "cell_type": "code",
      "execution_count": null,
      "metadata": {
        "id": "jLEV4qj9_NST"
      },
      "outputs": [],
      "source": [
        "# best_run = trainer.hyperparameter_search(n_trials=5, direction=\"maximize\",\n",
        "#                                          backend=\"optuna\", compute_objective=compute_objective,\n",
        "#                                          hp_space=hp_space, storage=\"sqlite:///optuna_xlmroberta_ner.db\")"
      ]
    },
    {
      "cell_type": "code",
      "execution_count": null,
      "metadata": {
        "id": "aa2TMl6LwwPH"
      },
      "outputs": [],
      "source": [
        "# wandb.finish()"
      ]
    },
    {
      "cell_type": "code",
      "execution_count": null,
      "metadata": {
        "id": "fRXuAYQTwwPI"
      },
      "outputs": [],
      "source": [
        "# best_run"
      ]
    },
    {
      "cell_type": "code",
      "execution_count": null,
      "metadata": {
        "id": "5fT8bPSHmZiY",
        "outputId": "06299fb8-345d-4e8b-9ba4-a652c1d9bb1b"
      },
      "outputs": [
        {
          "name": "stderr",
          "output_type": "stream",
          "text": [
            "huggingface/tokenizers: The current process just got forked, after parallelism has already been used. Disabling parallelism to avoid deadlocks...\n",
            "To disable this warning, you can either:\n",
            "\t- Avoid using `tokenizers` before the fork if possible\n",
            "\t- Explicitly set the environment variable TOKENIZERS_PARALLELISM=(true | false)\n",
            "huggingface/tokenizers: The current process just got forked, after parallelism has already been used. Disabling parallelism to avoid deadlocks...\n",
            "To disable this warning, you can either:\n",
            "\t- Avoid using `tokenizers` before the fork if possible\n",
            "\t- Explicitly set the environment variable TOKENIZERS_PARALLELISM=(true | false)\n"
          ]
        },
        {
          "data": {
            "text/html": [
              "Tracking run with wandb version 0.16.0"
            ],
            "text/plain": [
              "<IPython.core.display.HTML object>"
            ]
          },
          "metadata": {},
          "output_type": "display_data"
        },
        {
          "data": {
            "text/html": [
              "Run data is saved locally in <code>/notebooks/temp/wandb/run-20231126_212953-8npwzpfs</code>"
            ],
            "text/plain": [
              "<IPython.core.display.HTML object>"
            ]
          },
          "metadata": {},
          "output_type": "display_data"
        },
        {
          "data": {
            "text/html": [
              "Syncing run <strong><a href='https://wandb.ai/e_hossam96/cross-lingual-ner/runs/8npwzpfs' target=\"_blank\">xlmroberta-finetuned-ner-crf</a></strong> to <a href='https://wandb.ai/e_hossam96/cross-lingual-ner' target=\"_blank\">Weights & Biases</a> (<a href='https://wandb.me/run' target=\"_blank\">docs</a>)<br/>"
            ],
            "text/plain": [
              "<IPython.core.display.HTML object>"
            ]
          },
          "metadata": {},
          "output_type": "display_data"
        },
        {
          "data": {
            "text/html": [
              " View project at <a href='https://wandb.ai/e_hossam96/cross-lingual-ner' target=\"_blank\">https://wandb.ai/e_hossam96/cross-lingual-ner</a>"
            ],
            "text/plain": [
              "<IPython.core.display.HTML object>"
            ]
          },
          "metadata": {},
          "output_type": "display_data"
        },
        {
          "data": {
            "text/html": [
              " View run at <a href='https://wandb.ai/e_hossam96/cross-lingual-ner/runs/8npwzpfs' target=\"_blank\">https://wandb.ai/e_hossam96/cross-lingual-ner/runs/8npwzpfs</a>"
            ],
            "text/plain": [
              "<IPython.core.display.HTML object>"
            ]
          },
          "metadata": {},
          "output_type": "display_data"
        },
        {
          "data": {
            "text/html": [
              "<button onClick=\"this.nextSibling.style.display='block';this.style.display='none';\">Display W&B run</button><iframe src='https://wandb.ai/e_hossam96/cross-lingual-ner/runs/8npwzpfs?jupyter=true' style='border:none;width:100%;height:420px;display:none;'></iframe>"
            ],
            "text/plain": [
              "<wandb.sdk.wandb_run.Run at 0x7f5dc3663550>"
            ]
          },
          "execution_count": 58,
          "metadata": {},
          "output_type": "execute_result"
        }
      ],
      "source": [
        "wandb.init(project=\"cross-lingual-ner\", config={\"CRF\": True}, name=model_name)"
      ]
    },
    {
      "cell_type": "code",
      "execution_count": null,
      "metadata": {
        "id": "_cbVF1xswwPI"
      },
      "outputs": [],
      "source": [
        "args = TrainingArguments(\n",
        "    model_path,\n",
        "    overwrite_output_dir=True,\n",
        "    num_train_epochs=3,\n",
        "    load_best_model_at_end=True,\n",
        "    evaluation_strategy=\"epoch\",\n",
        "    save_strategy=\"epoch\",\n",
        "    seed=seed,\n",
        "    data_seed=seed,\n",
        "    per_device_train_batch_size=32,\n",
        "    per_device_eval_batch_size=32,\n",
        "    learning_rate=2e-5,\n",
        "    weight_decay=0.001,\n",
        "    warmup_ratio=0.05,\n",
        ")"
      ]
    },
    {
      "cell_type": "code",
      "execution_count": null,
      "metadata": {
        "id": "71yJ5kA_wwPI",
        "outputId": "4ac80f93-59a8-49c3-8975-2365f680ac10"
      },
      "outputs": [
        {
          "name": "stderr",
          "output_type": "stream",
          "text": [
            "Some weights of CRFXLMRobertaForTokenClassification were not initialized from the model checkpoint at xlm-roberta-base and are newly initialized: ['classifier.bias', 'classifier.weight', 'crf.end_transitions', 'crf.transitions', 'crf.start_transitions']\n",
            "You should probably TRAIN this model on a down-stream task to be able to use it for predictions and inference.\n"
          ]
        }
      ],
      "source": [
        "trainer = Trainer(\n",
        "    model=model_init(),\n",
        "    args=args,\n",
        "    train_dataset=tokenized_datasets[\"train\"],\n",
        "    eval_dataset=tokenized_datasets[\"validation\"],\n",
        "    data_collator=data_collator,\n",
        "    compute_metrics=compute_metrics,\n",
        "    tokenizer=tokenizer,\n",
        ")"
      ]
    },
    {
      "cell_type": "code",
      "execution_count": null,
      "metadata": {
        "id": "xjni4DRawwPI",
        "outputId": "e24de102-ea3d-4a7f-d848-988c0d6685b5"
      },
      "outputs": [
        {
          "data": {
            "text/html": [
              "\n",
              "    <div>\n",
              "      \n",
              "      <progress value='1317' max='1317' style='width:300px; height:20px; vertical-align: middle;'></progress>\n",
              "      [1317/1317 05:55, Epoch 3/3]\n",
              "    </div>\n",
              "    <table border=\"1\" class=\"dataframe\">\n",
              "  <thead>\n",
              " <tr style=\"text-align: left;\">\n",
              "      <th>Epoch</th>\n",
              "      <th>Training Loss</th>\n",
              "      <th>Validation Loss</th>\n",
              "      <th>Accuracy</th>\n",
              "      <th>Precision</th>\n",
              "      <th>Recall</th>\n",
              "      <th>F1</th>\n",
              "    </tr>\n",
              "  </thead>\n",
              "  <tbody>\n",
              "    <tr>\n",
              "      <td>1</td>\n",
              "      <td>No log</td>\n",
              "      <td>1.085646</td>\n",
              "      <td>0.987067</td>\n",
              "      <td>0.915211</td>\n",
              "      <td>0.939641</td>\n",
              "      <td>0.927266</td>\n",
              "    </tr>\n",
              "    <tr>\n",
              "      <td>2</td>\n",
              "      <td>4.535800</td>\n",
              "      <td>0.798569</td>\n",
              "      <td>0.990543</td>\n",
              "      <td>0.941790</td>\n",
              "      <td>0.953984</td>\n",
              "      <td>0.947848</td>\n",
              "    </tr>\n",
              "    <tr>\n",
              "      <td>3</td>\n",
              "      <td>0.750300</td>\n",
              "      <td>0.850363</td>\n",
              "      <td>0.990666</td>\n",
              "      <td>0.943396</td>\n",
              "      <td>0.956175</td>\n",
              "      <td>0.949743</td>\n",
              "    </tr>\n",
              "  </tbody>\n",
              "</table><p>"
            ],
            "text/plain": [
              "<IPython.core.display.HTML object>"
            ]
          },
          "metadata": {},
          "output_type": "display_data"
        },
        {
          "data": {
            "text/plain": [
              "TrainOutput(global_step=1317, training_loss=2.1382826078816084, metrics={'train_runtime': 356.8815, 'train_samples_per_second': 118.031, 'train_steps_per_second': 3.69, 'total_flos': 1320211483703280.0, 'train_loss': 2.1382826078816084, 'epoch': 3.0})"
            ]
          },
          "execution_count": 61,
          "metadata": {},
          "output_type": "execute_result"
        }
      ],
      "source": [
        "trainer.train()"
      ]
    },
    {
      "cell_type": "code",
      "execution_count": null,
      "metadata": {
        "colab": {
          "base_uri": "https://localhost:8080/",
          "height": 193
        },
        "id": "gi1ior7go8Y_",
        "outputId": "a098752d-3e56-41ca-c099-ad252e0ceb92"
      },
      "outputs": [
        {
          "data": {
            "text/html": [
              "\n",
              "    <div>\n",
              "      \n",
              "      <progress value='348' max='108' style='width:300px; height:20px; vertical-align: middle;'></progress>\n",
              "      [108/108 00:27]\n",
              "    </div>\n",
              "    "
            ],
            "text/plain": [
              "<IPython.core.display.HTML object>"
            ]
          },
          "metadata": {},
          "output_type": "display_data"
        },
        {
          "data": {
            "text/plain": [
              "{'test_en_loss': 1.2156037092208862,\n",
              " 'test_en_accuracy': 0.9835531279234693,\n",
              " 'test_en_precision': 0.9159713945172825,\n",
              " 'test_en_recall': 0.9260895762201246,\n",
              " 'test_en_f1': 0.9210026964945572,\n",
              " 'test_en_runtime': 6.6173,\n",
              " 'test_en_samples_per_second': 521.812,\n",
              " 'test_en_steps_per_second': 16.321,\n",
              " 'epoch': 3.0}"
            ]
          },
          "execution_count": 62,
          "metadata": {},
          "output_type": "execute_result"
        }
      ],
      "source": [
        "trainer.evaluate(tokenized_datasets[\"test\"], metric_key_prefix=\"test_en\")"
      ]
    },
    {
      "cell_type": "code",
      "execution_count": null,
      "metadata": {
        "colab": {
          "base_uri": "https://localhost:8080/",
          "height": 193
        },
        "id": "UcTHBfjdo8ZA",
        "outputId": "0aad518c-b48e-42e0-c901-cb7c2c50fca5"
      },
      "outputs": [
        {
          "data": {
            "text/plain": [
              "{'test_es_loss': 4.651081085205078,\n",
              " 'test_es_accuracy': 0.9741581606944905,\n",
              " 'test_es_precision': 0.7760119940029985,\n",
              " 'test_es_recall': 0.8039763901832867,\n",
              " 'test_es_f1': 0.7897467195605737,\n",
              " 'test_es_runtime': 5.7964,\n",
              " 'test_es_samples_per_second': 261.886,\n",
              " 'test_es_steps_per_second': 8.281,\n",
              " 'epoch': 3.0}"
            ]
          },
          "execution_count": 63,
          "metadata": {},
          "output_type": "execute_result"
        }
      ],
      "source": [
        "trainer.evaluate(tokenized_datasets[\"test_es\"], metric_key_prefix=\"test_es\")"
      ]
    },
    {
      "cell_type": "code",
      "execution_count": null,
      "metadata": {
        "colab": {
          "base_uri": "https://localhost:8080/",
          "height": 193
        },
        "id": "nk2qGNH1o8ZA",
        "outputId": "21c8fd5c-0c53-4273-9886-5e3bff09bbd5"
      },
      "outputs": [
        {
          "data": {
            "text/plain": [
              "{'test_nl_loss': 1.4585756063461304,\n",
              " 'test_nl_accuracy': 0.9788021298143933,\n",
              " 'test_nl_precision': 0.7645238913716054,\n",
              " 'test_nl_recall': 0.8084332969829153,\n",
              " 'test_nl_f1': 0.7858657243816255,\n",
              " 'test_nl_runtime': 12.288,\n",
              " 'test_nl_samples_per_second': 422.851,\n",
              " 'test_nl_steps_per_second': 13.265,\n",
              " 'epoch': 3.0}"
            ]
          },
          "execution_count": 64,
          "metadata": {},
          "output_type": "execute_result"
        }
      ],
      "source": [
        "trainer.evaluate(tokenized_datasets[\"test_nl\"], metric_key_prefix=\"test_nl\")"
      ]
    },
    {
      "cell_type": "code",
      "execution_count": null,
      "metadata": {
        "colab": {
          "base_uri": "https://localhost:8080/",
          "height": 193
        },
        "id": "XGZfTnFlo8ZA",
        "outputId": "8c55519e-cc9f-4d8d-e082-ff49101cc1a6"
      },
      "outputs": [
        {
          "data": {
            "text/plain": [
              "{'test_ar_loss': 8.910006523132324,\n",
              " 'test_ar_accuracy': 0.9507726103996605,\n",
              " 'test_ar_precision': 0.6140035906642729,\n",
              " 'test_ar_recall': 0.6312874942316566,\n",
              " 'test_ar_f1': 0.6225255972696245,\n",
              " 'test_ar_runtime': 3.7941,\n",
              " 'test_ar_samples_per_second': 243.533,\n",
              " 'test_ar_steps_per_second': 7.643,\n",
              " 'epoch': 3.0}"
            ]
          },
          "execution_count": 65,
          "metadata": {},
          "output_type": "execute_result"
        }
      ],
      "source": [
        "trainer.evaluate(tokenized_datasets[\"test_ar\"], metric_key_prefix=\"test_ar\")"
      ]
    },
    {
      "cell_type": "code",
      "execution_count": null,
      "metadata": {
        "id": "6k5R4Y8rwwPJ",
        "outputId": "3f3b4f3e-6761-46e9-96f9-0b02af7c25b9",
        "colab": {
          "referenced_widgets": [
            ""
          ]
        }
      },
      "outputs": [
        {
          "data": {
            "application/vnd.jupyter.widget-view+json": {
              "model_id": "",
              "version_major": 2,
              "version_minor": 0
            },
            "text/plain": [
              "VBox(children=(Label(value='0.002 MB of 0.002 MB uploaded\\r'), FloatProgress(value=1.0, max=1.0)))"
            ]
          },
          "metadata": {},
          "output_type": "display_data"
        },
        {
          "data": {
            "text/html": [
              "<style>\n",
              "    table.wandb td:nth-child(1) { padding: 0 10px; text-align: left ; width: auto;} td:nth-child(2) {text-align: left ; width: 100%}\n",
              "    .wandb-row { display: flex; flex-direction: row; flex-wrap: wrap; justify-content: flex-start; width: 100% }\n",
              "    .wandb-col { display: flex; flex-direction: column; flex-basis: 100%; flex: 1; padding: 10px; }\n",
              "    </style>\n",
              "<div class=\"wandb-row\"><div class=\"wandb-col\"><h3>Run history:</h3><br/><table class=\"wandb\"><tr><td>eval/accuracy</td><td>▁██</td></tr><tr><td>eval/f1</td><td>▁▇█</td></tr><tr><td>eval/loss</td><td>█▁▂</td></tr><tr><td>eval/precision</td><td>▁██</td></tr><tr><td>eval/recall</td><td>▁▇█</td></tr><tr><td>eval/runtime</td><td>▁█▄</td></tr><tr><td>eval/samples_per_second</td><td>█▁▅</td></tr><tr><td>eval/steps_per_second</td><td>█▁▅</td></tr><tr><td>test/ar_accuracy</td><td>▁</td></tr><tr><td>test/ar_f1</td><td>▁</td></tr><tr><td>test/ar_loss</td><td>▁</td></tr><tr><td>test/ar_precision</td><td>▁</td></tr><tr><td>test/ar_recall</td><td>▁</td></tr><tr><td>test/ar_runtime</td><td>▁</td></tr><tr><td>test/ar_samples_per_second</td><td>▁</td></tr><tr><td>test/ar_steps_per_second</td><td>▁</td></tr><tr><td>test/en_accuracy</td><td>▁</td></tr><tr><td>test/en_f1</td><td>▁</td></tr><tr><td>test/en_loss</td><td>▁</td></tr><tr><td>test/en_precision</td><td>▁</td></tr><tr><td>test/en_recall</td><td>▁</td></tr><tr><td>test/en_runtime</td><td>▁</td></tr><tr><td>test/en_samples_per_second</td><td>▁</td></tr><tr><td>test/en_steps_per_second</td><td>▁</td></tr><tr><td>test/es_accuracy</td><td>▁</td></tr><tr><td>test/es_f1</td><td>▁</td></tr><tr><td>test/es_loss</td><td>▁</td></tr><tr><td>test/es_precision</td><td>▁</td></tr><tr><td>test/es_recall</td><td>▁</td></tr><tr><td>test/es_runtime</td><td>▁</td></tr><tr><td>test/es_samples_per_second</td><td>▁</td></tr><tr><td>test/es_steps_per_second</td><td>▁</td></tr><tr><td>test/nl_accuracy</td><td>▁</td></tr><tr><td>test/nl_f1</td><td>▁</td></tr><tr><td>test/nl_loss</td><td>▁</td></tr><tr><td>test/nl_precision</td><td>▁</td></tr><tr><td>test/nl_recall</td><td>▁</td></tr><tr><td>test/nl_runtime</td><td>▁</td></tr><tr><td>test/nl_samples_per_second</td><td>▁</td></tr><tr><td>test/nl_steps_per_second</td><td>▁</td></tr><tr><td>train/epoch</td><td>▁▁▅▅██████</td></tr><tr><td>train/global_step</td><td>▁▁▅▅██████</td></tr><tr><td>train/learning_rate</td><td>█▁</td></tr><tr><td>train/loss</td><td>█▁</td></tr><tr><td>train/total_flos</td><td>▁</td></tr><tr><td>train/train_loss</td><td>▁</td></tr><tr><td>train/train_runtime</td><td>▁</td></tr><tr><td>train/train_samples_per_second</td><td>▁</td></tr><tr><td>train/train_steps_per_second</td><td>▁</td></tr></table><br/></div><div class=\"wandb-col\"><h3>Run summary:</h3><br/><table class=\"wandb\"><tr><td>eval/accuracy</td><td>0.99067</td></tr><tr><td>eval/f1</td><td>0.94974</td></tr><tr><td>eval/loss</td><td>0.85036</td></tr><tr><td>eval/precision</td><td>0.9434</td></tr><tr><td>eval/recall</td><td>0.95618</td></tr><tr><td>eval/runtime</td><td>7.2778</td></tr><tr><td>eval/samples_per_second</td><td>446.561</td></tr><tr><td>eval/steps_per_second</td><td>14.015</td></tr><tr><td>test/ar_accuracy</td><td>0.95077</td></tr><tr><td>test/ar_f1</td><td>0.62253</td></tr><tr><td>test/ar_loss</td><td>8.91001</td></tr><tr><td>test/ar_precision</td><td>0.614</td></tr><tr><td>test/ar_recall</td><td>0.63129</td></tr><tr><td>test/ar_runtime</td><td>3.7941</td></tr><tr><td>test/ar_samples_per_second</td><td>243.533</td></tr><tr><td>test/ar_steps_per_second</td><td>7.643</td></tr><tr><td>test/en_accuracy</td><td>0.98355</td></tr><tr><td>test/en_f1</td><td>0.921</td></tr><tr><td>test/en_loss</td><td>1.2156</td></tr><tr><td>test/en_precision</td><td>0.91597</td></tr><tr><td>test/en_recall</td><td>0.92609</td></tr><tr><td>test/en_runtime</td><td>6.6173</td></tr><tr><td>test/en_samples_per_second</td><td>521.812</td></tr><tr><td>test/en_steps_per_second</td><td>16.321</td></tr><tr><td>test/es_accuracy</td><td>0.97416</td></tr><tr><td>test/es_f1</td><td>0.78975</td></tr><tr><td>test/es_loss</td><td>4.65108</td></tr><tr><td>test/es_precision</td><td>0.77601</td></tr><tr><td>test/es_recall</td><td>0.80398</td></tr><tr><td>test/es_runtime</td><td>5.7964</td></tr><tr><td>test/es_samples_per_second</td><td>261.886</td></tr><tr><td>test/es_steps_per_second</td><td>8.281</td></tr><tr><td>test/nl_accuracy</td><td>0.9788</td></tr><tr><td>test/nl_f1</td><td>0.78587</td></tr><tr><td>test/nl_loss</td><td>1.45858</td></tr><tr><td>test/nl_precision</td><td>0.76452</td></tr><tr><td>test/nl_recall</td><td>0.80843</td></tr><tr><td>test/nl_runtime</td><td>12.288</td></tr><tr><td>test/nl_samples_per_second</td><td>422.851</td></tr><tr><td>test/nl_steps_per_second</td><td>13.265</td></tr><tr><td>train/epoch</td><td>3.0</td></tr><tr><td>train/global_step</td><td>1317</td></tr><tr><td>train/learning_rate</td><td>1e-05</td></tr><tr><td>train/loss</td><td>0.7503</td></tr><tr><td>train/total_flos</td><td>1320211483703280.0</td></tr><tr><td>train/train_loss</td><td>2.13828</td></tr><tr><td>train/train_runtime</td><td>356.8815</td></tr><tr><td>train/train_samples_per_second</td><td>118.031</td></tr><tr><td>train/train_steps_per_second</td><td>3.69</td></tr></table><br/></div></div>"
            ],
            "text/plain": [
              "<IPython.core.display.HTML object>"
            ]
          },
          "metadata": {},
          "output_type": "display_data"
        },
        {
          "data": {
            "text/html": [
              " View run <strong style=\"color:#cdcd00\">xlmroberta-finetuned-ner-crf</strong> at: <a href='https://wandb.ai/e_hossam96/cross-lingual-ner/runs/8npwzpfs' target=\"_blank\">https://wandb.ai/e_hossam96/cross-lingual-ner/runs/8npwzpfs</a><br/> View job at <a href='https://wandb.ai/e_hossam96/cross-lingual-ner/jobs/QXJ0aWZhY3RDb2xsZWN0aW9uOjExODkzNDMwOA==/version_details/v0' target=\"_blank\">https://wandb.ai/e_hossam96/cross-lingual-ner/jobs/QXJ0aWZhY3RDb2xsZWN0aW9uOjExODkzNDMwOA==/version_details/v0</a><br/>Synced 5 W&B file(s), 0 media file(s), 0 artifact file(s) and 0 other file(s)"
            ],
            "text/plain": [
              "<IPython.core.display.HTML object>"
            ]
          },
          "metadata": {},
          "output_type": "display_data"
        },
        {
          "data": {
            "text/html": [
              "Find logs at: <code>./wandb/run-20231126_212953-8npwzpfs/logs</code>"
            ],
            "text/plain": [
              "<IPython.core.display.HTML object>"
            ]
          },
          "metadata": {},
          "output_type": "display_data"
        }
      ],
      "source": [
        "wandb.finish()"
      ]
    },
    {
      "cell_type": "code",
      "execution_count": null,
      "metadata": {
        "id": "lt6rDwe-wwPJ"
      },
      "outputs": [],
      "source": [
        "trainer.save_model(model_name)"
      ]
    },
    {
      "cell_type": "code",
      "execution_count": null,
      "metadata": {
        "id": "iq28zRbwwwPJ"
      },
      "outputs": [],
      "source": [
        "from torch.nn.functional import cross_entropy\n",
        "\n",
        "device = \"cuda\" if torch.cuda.is_available() else \"cpu\"\n",
        "\n",
        "\n",
        "def forward_pass_with_label(batch):\n",
        "    # Convert dict of lists to list of dicts suitable for data collator\n",
        "    features = [dict(zip(batch, t)) for t in zip(*batch.values())]\n",
        "    # Pad inputs and labels and put all tensors on device\n",
        "    batch = data_collator(features)\n",
        "    input_ids = batch[\"input_ids\"].to(device)\n",
        "    attention_mask = batch[\"attention_mask\"].to(device)\n",
        "    labels = batch[\"labels\"].to(device)\n",
        "    with torch.no_grad():\n",
        "        # Pass data through model\n",
        "        output = trainer.model(input_ids, attention_mask)\n",
        "        # logit.size: [batch_size, sequence_length, classes]\n",
        "        # Predict class with largest logit value on classes axis\n",
        "        predicted_label = torch.argmax(output.logits, axis=-1).cpu().numpy()\n",
        "        # Calculate loss per token after flattening batch dimension with view\n",
        "        loss = cross_entropy(\n",
        "            output.logits.view(-1, len(label_names)), labels.view(-1), reduction=\"none\"\n",
        "        )\n",
        "        # Unflatten batch dimension and convert to numpy array\n",
        "        loss = loss.view(len(input_ids), -1).cpu().numpy()\n",
        "        return {\"loss\": loss, \"predicted_label\": predicted_label}"
      ]
    },
    {
      "cell_type": "code",
      "execution_count": null,
      "metadata": {
        "colab": {
          "referenced_widgets": [
            "",
            "5efc52e4fe4b435394a1405e07801ca8"
          ]
        },
        "id": "jITTkdqUwwPK",
        "outputId": "80377f32-3b66-4a17-92f3-7c46bbac2214"
      },
      "outputs": [
        {
          "name": "stderr",
          "output_type": "stream",
          "text": [
            "Parameter 'function'=<function forward_pass_with_label at 0x7f5dc35d9430> of the transform datasets.arrow_dataset.Dataset._map_single couldn't be hashed properly, a random hash was used instead. Make sure your transforms and parameters are serializable with pickle or dill for the dataset fingerprinting and caching to work. If you reuse this transform, the caching mechanism will consider it to be different from the previous calls and recompute everything. This warning is only showed once. Subsequent hashing failures won't be showed.\n"
          ]
        },
        {
          "data": {
            "application/vnd.jupyter.widget-view+json": {
              "model_id": "5efc52e4fe4b435394a1405e07801ca8",
              "version_major": 2,
              "version_minor": 0
            },
            "text/plain": [
              "Map:   0%|          | 0/924 [00:00<?, ? examples/s]"
            ]
          },
          "metadata": {},
          "output_type": "display_data"
        }
      ],
      "source": [
        "test_set = tokenized_datasets[\"test_ar\"]\n",
        "test_set = test_set.map(forward_pass_with_label, batched=True, batch_size=32)\n",
        "df = test_set.to_pandas()"
      ]
    },
    {
      "cell_type": "code",
      "execution_count": null,
      "metadata": {
        "id": "vMWjBIvbwwPK",
        "outputId": "6c839ae8-a78b-4bab-bc54-08aa0137dd8d"
      },
      "outputs": [
        {
          "data": {
            "text/html": [
              "<div>\n",
              "<style scoped>\n",
              "    .dataframe tbody tr th:only-of-type {\n",
              "        vertical-align: middle;\n",
              "    }\n",
              "\n",
              "    .dataframe tbody tr th {\n",
              "        vertical-align: top;\n",
              "    }\n",
              "\n",
              "    .dataframe thead th {\n",
              "        text-align: right;\n",
              "    }\n",
              "</style>\n",
              "<table border=\"1\" class=\"dataframe\">\n",
              "  <thead>\n",
              "    <tr style=\"text-align: right;\">\n",
              "      <th></th>\n",
              "      <th>input_ids</th>\n",
              "      <th>attention_mask</th>\n",
              "      <th>labels</th>\n",
              "      <th>loss</th>\n",
              "      <th>predicted_label</th>\n",
              "      <th>input_tokens</th>\n",
              "    </tr>\n",
              "  </thead>\n",
              "  <tbody>\n",
              "    <tr>\n",
              "      <th>0</th>\n",
              "      <td>[0, 184285, 648, 906, 136193, 20, 9475, 86765,...</td>\n",
              "      <td>[1, 1, 1, 1, 1, 1, 1, 1, 1, 1, 1, 1, 1, 1, 1, ...</td>\n",
              "      <td>[IGN, B-LOC, I-LOC, B-LOC, I-LOC, O, B-PER, I-...</td>\n",
              "      <td>[0.0, 0.112924896, 0.48242658, 5.0866833, 0.99...</td>\n",
              "      <td>[O, B-LOC, I-LOC, I-LOC, I-ORG, O, B-PER, I-PE...</td>\n",
              "      <td>[&lt;s&gt;, ▁الصالح, ية, ▁الم, فرق, ▁-, ▁غ, يث, ▁الط...</td>\n",
              "    </tr>\n",
              "  </tbody>\n",
              "</table>\n",
              "</div>"
            ],
            "text/plain": [
              "                                           input_ids  \\\n",
              "0  [0, 184285, 648, 906, 136193, 20, 9475, 86765,...   \n",
              "\n",
              "                                      attention_mask  \\\n",
              "0  [1, 1, 1, 1, 1, 1, 1, 1, 1, 1, 1, 1, 1, 1, 1, ...   \n",
              "\n",
              "                                              labels  \\\n",
              "0  [IGN, B-LOC, I-LOC, B-LOC, I-LOC, O, B-PER, I-...   \n",
              "\n",
              "                                                loss  \\\n",
              "0  [0.0, 0.112924896, 0.48242658, 5.0866833, 0.99...   \n",
              "\n",
              "                                     predicted_label  \\\n",
              "0  [O, B-LOC, I-LOC, I-LOC, I-ORG, O, B-PER, I-PE...   \n",
              "\n",
              "                                        input_tokens  \n",
              "0  [<s>, ▁الصالح, ية, ▁الم, فرق, ▁-, ▁غ, يث, ▁الط...  "
            ]
          },
          "execution_count": 70,
          "metadata": {},
          "output_type": "execute_result"
        }
      ],
      "source": [
        "id2label[-100] = \"IGN\"\n",
        "df[\"input_tokens\"] = df[\"input_ids\"].apply(lambda x: tokenizer.convert_ids_to_tokens(x))\n",
        "df[\"predicted_label\"] = df[\"predicted_label\"].apply(lambda x: [id2label[i] for i in x])\n",
        "df[\"loss\"] = df.apply(lambda x: x[\"loss\"][: len(x[\"input_ids\"])], axis=1)\n",
        "df[\"labels\"] = df[\"labels\"].apply(lambda x: [id2label[i] for i in x])\n",
        "df[\"predicted_label\"] = df.apply(\n",
        "    lambda x: x[\"predicted_label\"][: len(x[\"input_ids\"])], axis=1\n",
        ")\n",
        "df = df.reset_index(drop=True)\n",
        "df.head(1)"
      ]
    },
    {
      "cell_type": "code",
      "execution_count": null,
      "metadata": {
        "id": "ZVVwMaLPwwPK",
        "outputId": "e22b32fb-3ed8-4fa5-8ab2-afad0794f8b1"
      },
      "outputs": [
        {
          "data": {
            "text/html": [
              "<div>\n",
              "<style scoped>\n",
              "    .dataframe tbody tr th:only-of-type {\n",
              "        vertical-align: middle;\n",
              "    }\n",
              "\n",
              "    .dataframe tbody tr th {\n",
              "        vertical-align: top;\n",
              "    }\n",
              "\n",
              "    .dataframe thead th {\n",
              "        text-align: right;\n",
              "    }\n",
              "</style>\n",
              "<table border=\"1\" class=\"dataframe\">\n",
              "  <thead>\n",
              "    <tr style=\"text-align: right;\">\n",
              "      <th></th>\n",
              "      <th>input_ids</th>\n",
              "      <th>attention_mask</th>\n",
              "      <th>labels</th>\n",
              "      <th>loss</th>\n",
              "      <th>predicted_label</th>\n",
              "      <th>input_tokens</th>\n",
              "    </tr>\n",
              "  </thead>\n",
              "  <tbody>\n",
              "    <tr>\n",
              "      <th>0</th>\n",
              "      <td>184285</td>\n",
              "      <td>1</td>\n",
              "      <td>B-LOC</td>\n",
              "      <td>0.11</td>\n",
              "      <td>B-LOC</td>\n",
              "      <td>▁الصالح</td>\n",
              "    </tr>\n",
              "    <tr>\n",
              "      <th>1</th>\n",
              "      <td>648</td>\n",
              "      <td>1</td>\n",
              "      <td>I-LOC</td>\n",
              "      <td>0.48</td>\n",
              "      <td>I-LOC</td>\n",
              "      <td>ية</td>\n",
              "    </tr>\n",
              "    <tr>\n",
              "      <th>2</th>\n",
              "      <td>906</td>\n",
              "      <td>1</td>\n",
              "      <td>B-LOC</td>\n",
              "      <td>5.09</td>\n",
              "      <td>I-LOC</td>\n",
              "      <td>▁الم</td>\n",
              "    </tr>\n",
              "    <tr>\n",
              "      <th>3</th>\n",
              "      <td>136193</td>\n",
              "      <td>1</td>\n",
              "      <td>I-LOC</td>\n",
              "      <td>1.00</td>\n",
              "      <td>I-ORG</td>\n",
              "      <td>فرق</td>\n",
              "    </tr>\n",
              "    <tr>\n",
              "      <th>4</th>\n",
              "      <td>20</td>\n",
              "      <td>1</td>\n",
              "      <td>O</td>\n",
              "      <td>0.01</td>\n",
              "      <td>O</td>\n",
              "      <td>▁-</td>\n",
              "    </tr>\n",
              "    <tr>\n",
              "      <th>5</th>\n",
              "      <td>9475</td>\n",
              "      <td>1</td>\n",
              "      <td>B-PER</td>\n",
              "      <td>0.40</td>\n",
              "      <td>B-PER</td>\n",
              "      <td>▁غ</td>\n",
              "    </tr>\n",
              "    <tr>\n",
              "      <th>6</th>\n",
              "      <td>86765</td>\n",
              "      <td>1</td>\n",
              "      <td>I-PER</td>\n",
              "      <td>0.07</td>\n",
              "      <td>I-PER</td>\n",
              "      <td>يث</td>\n",
              "    </tr>\n",
              "    <tr>\n",
              "      <th>7</th>\n",
              "      <td>35717</td>\n",
              "      <td>1</td>\n",
              "      <td>I-PER</td>\n",
              "      <td>0.06</td>\n",
              "      <td>I-PER</td>\n",
              "      <td>▁الط</td>\n",
              "    </tr>\n",
              "    <tr>\n",
              "      <th>8</th>\n",
              "      <td>6247</td>\n",
              "      <td>1</td>\n",
              "      <td>I-PER</td>\n",
              "      <td>0.05</td>\n",
              "      <td>I-PER</td>\n",
              "      <td>را</td>\n",
              "    </tr>\n",
              "    <tr>\n",
              "      <th>9</th>\n",
              "      <td>56518</td>\n",
              "      <td>1</td>\n",
              "      <td>I-PER</td>\n",
              "      <td>0.07</td>\n",
              "      <td>I-PER</td>\n",
              "      <td>ونة</td>\n",
              "    </tr>\n",
              "  </tbody>\n",
              "</table>\n",
              "</div>"
            ],
            "text/plain": [
              "  input_ids attention_mask labels  loss predicted_label input_tokens\n",
              "0    184285              1  B-LOC  0.11           B-LOC      ▁الصالح\n",
              "1       648              1  I-LOC  0.48           I-LOC           ية\n",
              "2       906              1  B-LOC  5.09           I-LOC         ▁الم\n",
              "3    136193              1  I-LOC  1.00           I-ORG          فرق\n",
              "4        20              1      O  0.01               O           ▁-\n",
              "5      9475              1  B-PER  0.40           B-PER           ▁غ\n",
              "6     86765              1  I-PER  0.07           I-PER           يث\n",
              "7     35717              1  I-PER  0.06           I-PER         ▁الط\n",
              "8      6247              1  I-PER  0.05           I-PER           را\n",
              "9     56518              1  I-PER  0.07           I-PER          ونة"
            ]
          },
          "execution_count": 71,
          "metadata": {},
          "output_type": "execute_result"
        }
      ],
      "source": [
        "import pandas as pd\n",
        "\n",
        "df_tokens = df.apply(pd.Series.explode)\n",
        "df_tokens = df_tokens[df_tokens.labels != \"IGN\"]\n",
        "df_tokens = df_tokens.reset_index(drop=True)\n",
        "df_tokens[\"loss\"] = df_tokens[\"loss\"].astype(float).round(2)\n",
        "df_tokens.head(10)"
      ]
    },
    {
      "cell_type": "code",
      "execution_count": null,
      "metadata": {
        "id": "Q3sX2MTimZia",
        "outputId": "6e93dfb5-eba4-4c24-a735-0e5840ed1c13"
      },
      "outputs": [
        {
          "data": {
            "text/html": [
              "<div>\n",
              "<style scoped>\n",
              "    .dataframe tbody tr th:only-of-type {\n",
              "        vertical-align: middle;\n",
              "    }\n",
              "\n",
              "    .dataframe tbody tr th {\n",
              "        vertical-align: top;\n",
              "    }\n",
              "\n",
              "    .dataframe thead th {\n",
              "        text-align: right;\n",
              "    }\n",
              "</style>\n",
              "<table border=\"1\" class=\"dataframe\">\n",
              "  <thead>\n",
              "    <tr style=\"text-align: right;\">\n",
              "      <th></th>\n",
              "      <th>0</th>\n",
              "      <th>1</th>\n",
              "      <th>2</th>\n",
              "      <th>3</th>\n",
              "      <th>4</th>\n",
              "      <th>5</th>\n",
              "      <th>6</th>\n",
              "      <th>7</th>\n",
              "      <th>8</th>\n",
              "      <th>9</th>\n",
              "      <th>10</th>\n",
              "      <th>11</th>\n",
              "      <th>12</th>\n",
              "      <th>13</th>\n",
              "      <th>14</th>\n",
              "    </tr>\n",
              "  </thead>\n",
              "  <tbody>\n",
              "    <tr>\n",
              "      <th>input_tokens</th>\n",
              "      <td>▁و</td>\n",
              "      <td>▁</td>\n",
              "      <td>▁ل</td>\n",
              "      <td>▁لل</td>\n",
              "      <td>▁ب</td>\n",
              "      <td>ي</td>\n",
              "      <td>▁وال</td>\n",
              "      <td>ا</td>\n",
              "      <td>▁ال</td>\n",
              "      <td>▁بال</td>\n",
              "      <td>ة</td>\n",
              "      <td>إسرائيل</td>\n",
              "      <td>▁المتحدة</td>\n",
              "      <td>وا</td>\n",
              "      <td>الولايات</td>\n",
              "    </tr>\n",
              "    <tr>\n",
              "      <th>count</th>\n",
              "      <td>305</td>\n",
              "      <td>1890</td>\n",
              "      <td>178</td>\n",
              "      <td>193</td>\n",
              "      <td>214</td>\n",
              "      <td>415</td>\n",
              "      <td>116</td>\n",
              "      <td>371</td>\n",
              "      <td>462</td>\n",
              "      <td>104</td>\n",
              "      <td>593</td>\n",
              "      <td>9</td>\n",
              "      <td>52</td>\n",
              "      <td>59</td>\n",
              "      <td>7</td>\n",
              "    </tr>\n",
              "    <tr>\n",
              "      <th>mean</th>\n",
              "      <td>1.67</td>\n",
              "      <td>0.13</td>\n",
              "      <td>0.97</td>\n",
              "      <td>0.83</td>\n",
              "      <td>0.68</td>\n",
              "      <td>0.23</td>\n",
              "      <td>0.76</td>\n",
              "      <td>0.22</td>\n",
              "      <td>0.15</td>\n",
              "      <td>0.64</td>\n",
              "      <td>0.1</td>\n",
              "      <td>5.99</td>\n",
              "      <td>0.95</td>\n",
              "      <td>0.83</td>\n",
              "      <td>6.79</td>\n",
              "    </tr>\n",
              "    <tr>\n",
              "      <th>sum</th>\n",
              "      <td>510.72</td>\n",
              "      <td>251.78</td>\n",
              "      <td>172.34</td>\n",
              "      <td>159.43</td>\n",
              "      <td>144.88</td>\n",
              "      <td>95.71</td>\n",
              "      <td>88.23</td>\n",
              "      <td>82.94</td>\n",
              "      <td>69.48</td>\n",
              "      <td>66.11</td>\n",
              "      <td>59.84</td>\n",
              "      <td>53.88</td>\n",
              "      <td>49.28</td>\n",
              "      <td>48.79</td>\n",
              "      <td>47.52</td>\n",
              "    </tr>\n",
              "  </tbody>\n",
              "</table>\n",
              "</div>"
            ],
            "text/plain": [
              "                  0       1       2       3       4      5      6      7   \\\n",
              "input_tokens      ▁و       ▁      ▁ل     ▁لل      ▁ب      ي   ▁وال      ا   \n",
              "count            305    1890     178     193     214    415    116    371   \n",
              "mean            1.67    0.13    0.97    0.83    0.68   0.23   0.76   0.22   \n",
              "sum           510.72  251.78  172.34  159.43  144.88  95.71  88.23  82.94   \n",
              "\n",
              "                 8      9      10       11        12     13        14  \n",
              "input_tokens    ▁ال   ▁بال      ة  إسرائيل  ▁المتحدة     وا  الولايات  \n",
              "count           462    104    593        9        52     59         7  \n",
              "mean           0.15   0.64    0.1     5.99      0.95   0.83      6.79  \n",
              "sum           69.48  66.11  59.84    53.88     49.28  48.79     47.52  "
            ]
          },
          "execution_count": 72,
          "metadata": {},
          "output_type": "execute_result"
        }
      ],
      "source": [
        "(\n",
        "    df_tokens.groupby(\"input_tokens\")[[\"loss\"]]\n",
        "    .agg([\"count\", \"mean\", \"sum\"])\n",
        "    .droplevel(level=0, axis=1)\n",
        "    .sort_values(by=\"sum\", ascending=False)\n",
        "    .reset_index()\n",
        "    .round(2)\n",
        "    .head(15)\n",
        "    .T\n",
        ")"
      ]
    },
    {
      "cell_type": "code",
      "execution_count": null,
      "metadata": {
        "id": "uVZ_lUjImZia",
        "outputId": "9e7f5d4a-3faf-4516-f631-7a1d15933883"
      },
      "outputs": [
        {
          "data": {
            "text/html": [
              "<div>\n",
              "<style scoped>\n",
              "    .dataframe tbody tr th:only-of-type {\n",
              "        vertical-align: middle;\n",
              "    }\n",
              "\n",
              "    .dataframe tbody tr th {\n",
              "        vertical-align: top;\n",
              "    }\n",
              "\n",
              "    .dataframe thead th {\n",
              "        text-align: right;\n",
              "    }\n",
              "</style>\n",
              "<table border=\"1\" class=\"dataframe\">\n",
              "  <thead>\n",
              "    <tr style=\"text-align: right;\">\n",
              "      <th></th>\n",
              "      <th>0</th>\n",
              "      <th>1</th>\n",
              "      <th>2</th>\n",
              "      <th>3</th>\n",
              "      <th>4</th>\n",
              "      <th>5</th>\n",
              "      <th>6</th>\n",
              "    </tr>\n",
              "  </thead>\n",
              "  <tbody>\n",
              "    <tr>\n",
              "      <th>labels</th>\n",
              "      <td>B-ORG</td>\n",
              "      <td>B-PER</td>\n",
              "      <td>B-LOC</td>\n",
              "      <td>I-ORG</td>\n",
              "      <td>I-LOC</td>\n",
              "      <td>I-PER</td>\n",
              "      <td>O</td>\n",
              "    </tr>\n",
              "    <tr>\n",
              "      <th>count</th>\n",
              "      <td>506</td>\n",
              "      <td>890</td>\n",
              "      <td>725</td>\n",
              "      <td>868</td>\n",
              "      <td>826</td>\n",
              "      <td>2380</td>\n",
              "      <td>33864</td>\n",
              "    </tr>\n",
              "    <tr>\n",
              "      <th>mean</th>\n",
              "      <td>2.03</td>\n",
              "      <td>1.45</td>\n",
              "      <td>1.43</td>\n",
              "      <td>0.97</td>\n",
              "      <td>0.95</td>\n",
              "      <td>0.6</td>\n",
              "      <td>0.05</td>\n",
              "    </tr>\n",
              "    <tr>\n",
              "      <th>sum</th>\n",
              "      <td>1027.06</td>\n",
              "      <td>1293.88</td>\n",
              "      <td>1040.3</td>\n",
              "      <td>837.75</td>\n",
              "      <td>782.64</td>\n",
              "      <td>1422.99</td>\n",
              "      <td>1831.61</td>\n",
              "    </tr>\n",
              "  </tbody>\n",
              "</table>\n",
              "</div>"
            ],
            "text/plain": [
              "              0        1       2       3       4        5        6\n",
              "labels    B-ORG    B-PER   B-LOC   I-ORG   I-LOC    I-PER        O\n",
              "count       506      890     725     868     826     2380    33864\n",
              "mean       2.03     1.45    1.43    0.97    0.95      0.6     0.05\n",
              "sum     1027.06  1293.88  1040.3  837.75  782.64  1422.99  1831.61"
            ]
          },
          "execution_count": 73,
          "metadata": {},
          "output_type": "execute_result"
        }
      ],
      "source": [
        "(\n",
        "    df_tokens.groupby(\"labels\")[[\"loss\"]]\n",
        "    .agg([\"count\", \"mean\", \"sum\"])\n",
        "    .droplevel(level=0, axis=1)\n",
        "    .sort_values(by=\"mean\", ascending=False)\n",
        "    .reset_index()\n",
        "    .round(2)\n",
        "    .T\n",
        ")"
      ]
    },
    {
      "cell_type": "code",
      "execution_count": null,
      "metadata": {
        "id": "tc9pvhvZmZia",
        "outputId": "a42db9a8-ff8b-48ed-a4a5-1379fe4ed57d"
      },
      "outputs": [
        {
          "data": {
            "image/png": "[encoded data removed]",
            "text/plain": [
              "<Figure size 1000x1000 with 1 Axes>"
            ]
          },
          "metadata": {},
          "output_type": "display_data"
        }
      ],
      "source": [
        "import matplotlib.pyplot as plt\n",
        "from sklearn.metrics import confusion_matrix, ConfusionMatrixDisplay\n",
        "\n",
        "_, ax = plt.subplots(figsize=(10, 10))\n",
        "cm = confusion_matrix(\n",
        "    df_tokens.labels.to_list(),\n",
        "    df_tokens.predicted_label.to_list(),\n",
        "    labels=label_names,\n",
        "    normalize=\"true\",\n",
        ")\n",
        "disp = ConfusionMatrixDisplay(confusion_matrix=cm, display_labels=label_names)\n",
        "\n",
        "disp.plot(cmap=\"Blues\", colorbar=False, ax=ax, values_format=\".2f\")\n",
        "plt.show()"
      ]
    },
    {
      "cell_type": "code",
      "execution_count": null,
      "metadata": {
        "id": "wcvaCf_No8ZA"
      },
      "outputs": [],
      "source": [
        "from transformers import pipeline\n",
        "\n",
        "ner_pipeline = pipeline(\"ner\", model=model_name, aggregation_strategy=\"simple\")"
      ]
    },
    {
      "cell_type": "code",
      "execution_count": null,
      "metadata": {
        "colab": {
          "base_uri": "https://localhost:8080/",
          "height": 53
        },
        "id": "Kdc3CRVBo8ZA",
        "outputId": "35feb0de-af8f-4b39-cb34-23e21d2ac667"
      },
      "outputs": [
        {
          "data": {
            "text/plain": [
              "'الصالحية المفرق - غيث الطراونة - أمر جلالة الملك عبدالله الثاني أمس بتنفيذ حزمة من المشاريع التعليمية والصحية والتنموية وأخرى مرتبطة بالأندية الشبابية و 27 وحدة سكنية في قضاء الصالحية ونايفة في البادية الشرقية خلال ستة اشهر بتمويل من الديوان الملكي الهاشمي .'"
            ]
          },
          "execution_count": 76,
          "metadata": {},
          "output_type": "execute_result"
        }
      ],
      "source": [
        "text = \" \".join(raw_datasets[\"test_ar\"][0][\"tokens\"])\n",
        "text"
      ]
    },
    {
      "cell_type": "code",
      "execution_count": null,
      "metadata": {
        "id": "StPHGP-7o8ZB"
      },
      "outputs": [],
      "source": [
        "outs = ner_pipeline(text)"
      ]
    },
    {
      "cell_type": "code",
      "execution_count": null,
      "metadata": {
        "colab": {
          "base_uri": "https://localhost:8080/"
        },
        "id": "lpLmGD-uo8ZB",
        "outputId": "bef61a58-476b-48d8-d07d-4dd94f9a55e5"
      },
      "outputs": [
        {
          "data": {
            "text/plain": [
              "[{'entity_group': 'LOC',\n",
              "  'score': 0.6466204,\n",
              "  'word': 'الصالحية الم',\n",
              "  'start': 0,\n",
              "  'end': 12},\n",
              " {'entity_group': 'ORG',\n",
              "  'score': 0.43030322,\n",
              "  'word': 'فرق',\n",
              "  'start': 12,\n",
              "  'end': 15},\n",
              " {'entity_group': 'PER',\n",
              "  'score': 0.886985,\n",
              "  'word': 'غيث الطراونة',\n",
              "  'start': 18,\n",
              "  'end': 30},\n",
              " {'entity_group': 'PER',\n",
              "  'score': 0.76778704,\n",
              "  'word': 'عبدالله الثاني',\n",
              "  'start': 49,\n",
              "  'end': 63},\n",
              " {'entity_group': 'LOC',\n",
              "  'score': 0.964115,\n",
              "  'word': 'الصالحية ونايفة',\n",
              "  'start': 175,\n",
              "  'end': 190},\n",
              " {'entity_group': 'LOC',\n",
              "  'score': 0.9836382,\n",
              "  'word': 'البادية الشرقية',\n",
              "  'start': 194,\n",
              "  'end': 209},\n",
              " {'entity_group': 'ORG',\n",
              "  'score': 0.74061996,\n",
              "  'word': 'الديوان الملكي',\n",
              "  'start': 234,\n",
              "  'end': 248},\n",
              " {'entity_group': 'ORG',\n",
              "  'score': 0.66750926,\n",
              "  'word': 'اشمي',\n",
              "  'start': 252,\n",
              "  'end': 256}]"
            ]
          },
          "execution_count": 78,
          "metadata": {},
          "output_type": "execute_result"
        }
      ],
      "source": [
        "outs"
      ]
    },
    {
      "cell_type": "code",
      "execution_count": null,
      "metadata": {
        "id": "3iu5dChZo8ZB"
      },
      "outputs": [],
      "source": [
        "def create_scheme(text, outs):\n",
        "    scheme = {}\n",
        "    scheme[\"text\"] = text\n",
        "    scheme[\"ents\"] = [\n",
        "        {\"start\": ent[\"start\"], \"end\": ent[\"end\"], \"label\": ent[\"entity_group\"]}\n",
        "        for ent in outs\n",
        "    ]\n",
        "    scheme[\"title\"] = None\n",
        "    return scheme"
      ]
    },
    {
      "cell_type": "code",
      "execution_count": null,
      "metadata": {
        "id": "_79u8jeSo8ZB"
      },
      "outputs": [],
      "source": [
        "from IPython.display import HTML"
      ]
    },
    {
      "cell_type": "code",
      "execution_count": null,
      "metadata": {
        "id": "HigLVbmxo8ZB"
      },
      "outputs": [],
      "source": [
        "from spacy import displacy"
      ]
    },
    {
      "cell_type": "code",
      "execution_count": null,
      "metadata": {
        "colab": {
          "base_uri": "https://localhost:8080/",
          "height": 87
        },
        "id": "imesWVvuo8ZB",
        "outputId": "c391982d-0690-47fd-960c-a4534af552af"
      },
      "outputs": [
        {
          "data": {
            "text/html": [
              "<span class=\"tex2jax_ignore\"><div class=\"entities\" style=\"line-height: 2.5; direction: ltr\">\n",
              "<mark class=\"entity\" style=\"background: #ff9561; padding: 0.45em 0.6em; margin: 0 0.25em; line-height: 1; border-radius: 0.35em;\">\n",
              "    الصالحية الم\n",
              "    <span style=\"font-size: 0.8em; font-weight: bold; line-height: 1; border-radius: 0.35em; vertical-align: middle; margin-left: 0.5rem\">LOC</span>\n",
              "</mark>\n",
              "\n",
              "<mark class=\"entity\" style=\"background: #7aecec; padding: 0.45em 0.6em; margin: 0 0.25em; line-height: 1; border-radius: 0.35em;\">\n",
              "    فرق\n",
              "    <span style=\"font-size: 0.8em; font-weight: bold; line-height: 1; border-radius: 0.35em; vertical-align: middle; margin-left: 0.5rem\">ORG</span>\n",
              "</mark>\n",
              " - \n",
              "<mark class=\"entity\" style=\"background: #ddd; padding: 0.45em 0.6em; margin: 0 0.25em; line-height: 1; border-radius: 0.35em;\">\n",
              "    غيث الطراونة\n",
              "    <span style=\"font-size: 0.8em; font-weight: bold; line-height: 1; border-radius: 0.35em; vertical-align: middle; margin-left: 0.5rem\">PER</span>\n",
              "</mark>\n",
              " - أمر جلالة الملك \n",
              "<mark class=\"entity\" style=\"background: #ddd; padding: 0.45em 0.6em; margin: 0 0.25em; line-height: 1; border-radius: 0.35em;\">\n",
              "    عبدالله الثاني\n",
              "    <span style=\"font-size: 0.8em; font-weight: bold; line-height: 1; border-radius: 0.35em; vertical-align: middle; margin-left: 0.5rem\">PER</span>\n",
              "</mark>\n",
              " أمس بتنفيذ حزمة من المشاريع التعليمية والصحية والتنموية وأخرى مرتبطة بالأندية الشبابية و 27 وحدة سكنية في قضاء \n",
              "<mark class=\"entity\" style=\"background: #ff9561; padding: 0.45em 0.6em; margin: 0 0.25em; line-height: 1; border-radius: 0.35em;\">\n",
              "    الصالحية ونايفة\n",
              "    <span style=\"font-size: 0.8em; font-weight: bold; line-height: 1; border-radius: 0.35em; vertical-align: middle; margin-left: 0.5rem\">LOC</span>\n",
              "</mark>\n",
              " في \n",
              "<mark class=\"entity\" style=\"background: #ff9561; padding: 0.45em 0.6em; margin: 0 0.25em; line-height: 1; border-radius: 0.35em;\">\n",
              "    البادية الشرقية\n",
              "    <span style=\"font-size: 0.8em; font-weight: bold; line-height: 1; border-radius: 0.35em; vertical-align: middle; margin-left: 0.5rem\">LOC</span>\n",
              "</mark>\n",
              " خلال ستة اشهر بتمويل من \n",
              "<mark class=\"entity\" style=\"background: #7aecec; padding: 0.45em 0.6em; margin: 0 0.25em; line-height: 1; border-radius: 0.35em;\">\n",
              "    الديوان الملكي\n",
              "    <span style=\"font-size: 0.8em; font-weight: bold; line-height: 1; border-radius: 0.35em; vertical-align: middle; margin-left: 0.5rem\">ORG</span>\n",
              "</mark>\n",
              " اله\n",
              "<mark class=\"entity\" style=\"background: #7aecec; padding: 0.45em 0.6em; margin: 0 0.25em; line-height: 1; border-radius: 0.35em;\">\n",
              "    اشمي\n",
              "    <span style=\"font-size: 0.8em; font-weight: bold; line-height: 1; border-radius: 0.35em; vertical-align: middle; margin-left: 0.5rem\">ORG</span>\n",
              "</mark>\n",
              " .</div></span>"
            ],
            "text/plain": [
              "<IPython.core.display.HTML object>"
            ]
          },
          "metadata": {},
          "output_type": "display_data"
        }
      ],
      "source": [
        "_ = HTML(displacy.render(create_scheme(text, outs), style=\"ent\", manual=True))"
      ]
    }
  ],
  "metadata": {
    "accelerator": "GPU",
    "colab": {
      "gpuType": "T4",
      "provenance": [],
      "include_colab_link": true
    },
    "kernelspec": {
      "display_name": "Python 3 (ipykernel)",
      "language": "python",
      "name": "python3"
    },
    "language_info": {
      "codemirror_mode": {
        "name": "ipython",
        "version": 3
      },
      "file_extension": ".py",
      "mimetype": "text/x-python",
      "name": "python",
      "nbconvert_exporter": "python",
      "pygments_lexer": "ipython3",
      "version": "3.9.16"
    },
    "widgets": {
      "application/vnd.jupyter.widget-state+json": {
        "006848432f4147b48d73f01e53e8678e": {
          "model_module": "@jupyter-widgets/controls",
          "model_module_version": "1.5.0",
          "model_name": "HBoxModel",
          "state": {
            "_dom_classes": [],
            "_model_module": "@jupyter-widgets/controls",
            "_model_module_version": "1.5.0",
            "_model_name": "HBoxModel",
            "_view_count": null,
            "_view_module": "@jupyter-widgets/controls",
            "_view_module_version": "1.5.0",
            "_view_name": "HBoxView",
            "box_style": "",
            "children": [
              "IPY_MODEL_260fef4dc0684264984346aedfc2bb80",
              "IPY_MODEL_cedd7fd434cb49e1847f34ff43111342",
              "IPY_MODEL_af22e6a6e55f48c38ec4e76f39abba5f"
            ],
            "layout": "IPY_MODEL_66d708118d9b428086cf3232d22fef23"
          }
        },
        "159f070d36f74b0c9c7e039bedebb1ab": {
          "model_module": "@jupyter-widgets/controls",
          "model_module_version": "1.5.0",
          "model_name": "DescriptionStyleModel",
          "state": {
            "_model_module": "@jupyter-widgets/controls",
            "_model_module_version": "1.5.0",
            "_model_name": "DescriptionStyleModel",
            "_view_count": null,
            "_view_module": "@jupyter-widgets/base",
            "_view_module_version": "1.2.0",
            "_view_name": "StyleView",
            "description_width": ""
          }
        },
        "260fef4dc0684264984346aedfc2bb80": {
          "model_module": "@jupyter-widgets/controls",
          "model_module_version": "1.5.0",
          "model_name": "HTMLModel",
          "state": {
            "_dom_classes": [],
            "_model_module": "@jupyter-widgets/controls",
            "_model_module_version": "1.5.0",
            "_model_name": "HTMLModel",
            "_view_count": null,
            "_view_module": "@jupyter-widgets/controls",
            "_view_module_version": "1.5.0",
            "_view_name": "HTMLView",
            "description": "",
            "description_tooltip": null,
            "layout": "IPY_MODEL_d609512a8fec494ea8ded84deded6918",
            "placeholder": "​",
            "style": "IPY_MODEL_33fca871c087425bba21263a7397a0bf",
            "value": "Map: 100%"
          }
        },
        "33fca871c087425bba21263a7397a0bf": {
          "model_module": "@jupyter-widgets/controls",
          "model_module_version": "1.5.0",
          "model_name": "DescriptionStyleModel",
          "state": {
            "_model_module": "@jupyter-widgets/controls",
            "_model_module_version": "1.5.0",
            "_model_name": "DescriptionStyleModel",
            "_view_count": null,
            "_view_module": "@jupyter-widgets/base",
            "_view_module_version": "1.2.0",
            "_view_name": "StyleView",
            "description_width": ""
          }
        },
        "453920010d8644409982213e0ea2f035": {
          "model_module": "@jupyter-widgets/base",
          "model_module_version": "1.2.0",
          "model_name": "LayoutModel",
          "state": {
            "_model_module": "@jupyter-widgets/base",
            "_model_module_version": "1.2.0",
            "_model_name": "LayoutModel",
            "_view_count": null,
            "_view_module": "@jupyter-widgets/base",
            "_view_module_version": "1.2.0",
            "_view_name": "LayoutView",
            "align_content": null,
            "align_items": null,
            "align_self": null,
            "border": null,
            "bottom": null,
            "display": null,
            "flex": null,
            "flex_flow": null,
            "grid_area": null,
            "grid_auto_columns": null,
            "grid_auto_flow": null,
            "grid_auto_rows": null,
            "grid_column": null,
            "grid_gap": null,
            "grid_row": null,
            "grid_template_areas": null,
            "grid_template_columns": null,
            "grid_template_rows": null,
            "height": null,
            "justify_content": null,
            "justify_items": null,
            "left": null,
            "margin": null,
            "max_height": null,
            "max_width": null,
            "min_height": null,
            "min_width": null,
            "object_fit": null,
            "object_position": null,
            "order": null,
            "overflow": null,
            "overflow_x": null,
            "overflow_y": null,
            "padding": null,
            "right": null,
            "top": null,
            "visibility": null,
            "width": null
          }
        },
        "4da84e33b0ba4072b77ef162bf55fbbc": {
          "model_module": "@jupyter-widgets/base",
          "model_module_version": "1.2.0",
          "model_name": "LayoutModel",
          "state": {
            "_model_module": "@jupyter-widgets/base",
            "_model_module_version": "1.2.0",
            "_model_name": "LayoutModel",
            "_view_count": null,
            "_view_module": "@jupyter-widgets/base",
            "_view_module_version": "1.2.0",
            "_view_name": "LayoutView",
            "align_content": null,
            "align_items": null,
            "align_self": null,
            "border": null,
            "bottom": null,
            "display": null,
            "flex": null,
            "flex_flow": null,
            "grid_area": null,
            "grid_auto_columns": null,
            "grid_auto_flow": null,
            "grid_auto_rows": null,
            "grid_column": null,
            "grid_gap": null,
            "grid_row": null,
            "grid_template_areas": null,
            "grid_template_columns": null,
            "grid_template_rows": null,
            "height": null,
            "justify_content": null,
            "justify_items": null,
            "left": null,
            "margin": null,
            "max_height": null,
            "max_width": null,
            "min_height": null,
            "min_width": null,
            "object_fit": null,
            "object_position": null,
            "order": null,
            "overflow": null,
            "overflow_x": null,
            "overflow_y": null,
            "padding": null,
            "right": null,
            "top": null,
            "visibility": null,
            "width": null
          }
        },
        "50c19fd555d14ce7bc7179024f0602e5": {
          "model_module": "@jupyter-widgets/controls",
          "model_module_version": "1.5.0",
          "model_name": "HBoxModel",
          "state": {
            "_dom_classes": [],
            "_model_module": "@jupyter-widgets/controls",
            "_model_module_version": "1.5.0",
            "_model_name": "HBoxModel",
            "_view_count": null,
            "_view_module": "@jupyter-widgets/controls",
            "_view_module_version": "1.5.0",
            "_view_name": "HBoxView",
            "box_style": "",
            "children": [
              "IPY_MODEL_e7ae1eb55ffd4205a83fe0fc05529c2f",
              "IPY_MODEL_daa444889596481b9d4dca33eb4bbcb0",
              "IPY_MODEL_d684bdbb19ef42d2ac323f36ee46541e"
            ],
            "layout": "IPY_MODEL_85254cf838674ac2a0d0a296ad6fcf31"
          }
        },
        "5f8835ead5d64a2d84ed01206dd2c479": {
          "model_module": "@jupyter-widgets/controls",
          "model_module_version": "1.5.0",
          "model_name": "ProgressStyleModel",
          "state": {
            "_model_module": "@jupyter-widgets/controls",
            "_model_module_version": "1.5.0",
            "_model_name": "ProgressStyleModel",
            "_view_count": null,
            "_view_module": "@jupyter-widgets/base",
            "_view_module_version": "1.2.0",
            "_view_name": "StyleView",
            "bar_color": null,
            "description_width": ""
          }
        },
        "66d708118d9b428086cf3232d22fef23": {
          "model_module": "@jupyter-widgets/base",
          "model_module_version": "1.2.0",
          "model_name": "LayoutModel",
          "state": {
            "_model_module": "@jupyter-widgets/base",
            "_model_module_version": "1.2.0",
            "_model_name": "LayoutModel",
            "_view_count": null,
            "_view_module": "@jupyter-widgets/base",
            "_view_module_version": "1.2.0",
            "_view_name": "LayoutView",
            "align_content": null,
            "align_items": null,
            "align_self": null,
            "border": null,
            "bottom": null,
            "display": null,
            "flex": null,
            "flex_flow": null,
            "grid_area": null,
            "grid_auto_columns": null,
            "grid_auto_flow": null,
            "grid_auto_rows": null,
            "grid_column": null,
            "grid_gap": null,
            "grid_row": null,
            "grid_template_areas": null,
            "grid_template_columns": null,
            "grid_template_rows": null,
            "height": null,
            "justify_content": null,
            "justify_items": null,
            "left": null,
            "margin": null,
            "max_height": null,
            "max_width": null,
            "min_height": null,
            "min_width": null,
            "object_fit": null,
            "object_position": null,
            "order": null,
            "overflow": null,
            "overflow_x": null,
            "overflow_y": null,
            "padding": null,
            "right": null,
            "top": null,
            "visibility": null,
            "width": null
          }
        },
        "7605ab58b68243c88d318f2b4c2a89ce": {
          "model_module": "@jupyter-widgets/controls",
          "model_module_version": "1.5.0",
          "model_name": "ProgressStyleModel",
          "state": {
            "_model_module": "@jupyter-widgets/controls",
            "_model_module_version": "1.5.0",
            "_model_name": "ProgressStyleModel",
            "_view_count": null,
            "_view_module": "@jupyter-widgets/base",
            "_view_module_version": "1.2.0",
            "_view_name": "StyleView",
            "bar_color": null,
            "description_width": ""
          }
        },
        "7b7072cd3744492290e58f2afbfc2327": {
          "model_module": "@jupyter-widgets/controls",
          "model_module_version": "1.5.0",
          "model_name": "DescriptionStyleModel",
          "state": {
            "_model_module": "@jupyter-widgets/controls",
            "_model_module_version": "1.5.0",
            "_model_name": "DescriptionStyleModel",
            "_view_count": null,
            "_view_module": "@jupyter-widgets/base",
            "_view_module_version": "1.2.0",
            "_view_name": "StyleView",
            "description_width": ""
          }
        },
        "85254cf838674ac2a0d0a296ad6fcf31": {
          "model_module": "@jupyter-widgets/base",
          "model_module_version": "1.2.0",
          "model_name": "LayoutModel",
          "state": {
            "_model_module": "@jupyter-widgets/base",
            "_model_module_version": "1.2.0",
            "_model_name": "LayoutModel",
            "_view_count": null,
            "_view_module": "@jupyter-widgets/base",
            "_view_module_version": "1.2.0",
            "_view_name": "LayoutView",
            "align_content": null,
            "align_items": null,
            "align_self": null,
            "border": null,
            "bottom": null,
            "display": null,
            "flex": null,
            "flex_flow": null,
            "grid_area": null,
            "grid_auto_columns": null,
            "grid_auto_flow": null,
            "grid_auto_rows": null,
            "grid_column": null,
            "grid_gap": null,
            "grid_row": null,
            "grid_template_areas": null,
            "grid_template_columns": null,
            "grid_template_rows": null,
            "height": null,
            "justify_content": null,
            "justify_items": null,
            "left": null,
            "margin": null,
            "max_height": null,
            "max_width": null,
            "min_height": null,
            "min_width": null,
            "object_fit": null,
            "object_position": null,
            "order": null,
            "overflow": null,
            "overflow_x": null,
            "overflow_y": null,
            "padding": null,
            "right": null,
            "top": null,
            "visibility": null,
            "width": null
          }
        },
        "87605727fd334b198439e3026f8d3d98": {
          "model_module": "@jupyter-widgets/controls",
          "model_module_version": "1.5.0",
          "model_name": "DescriptionStyleModel",
          "state": {
            "_model_module": "@jupyter-widgets/controls",
            "_model_module_version": "1.5.0",
            "_model_name": "DescriptionStyleModel",
            "_view_count": null,
            "_view_module": "@jupyter-widgets/base",
            "_view_module_version": "1.2.0",
            "_view_name": "StyleView",
            "description_width": ""
          }
        },
        "96d66577eb3b4b86bb4bcfe7ec113acb": {
          "model_module": "@jupyter-widgets/base",
          "model_module_version": "1.2.0",
          "model_name": "LayoutModel",
          "state": {
            "_model_module": "@jupyter-widgets/base",
            "_model_module_version": "1.2.0",
            "_model_name": "LayoutModel",
            "_view_count": null,
            "_view_module": "@jupyter-widgets/base",
            "_view_module_version": "1.2.0",
            "_view_name": "LayoutView",
            "align_content": null,
            "align_items": null,
            "align_self": null,
            "border": null,
            "bottom": null,
            "display": null,
            "flex": null,
            "flex_flow": null,
            "grid_area": null,
            "grid_auto_columns": null,
            "grid_auto_flow": null,
            "grid_auto_rows": null,
            "grid_column": null,
            "grid_gap": null,
            "grid_row": null,
            "grid_template_areas": null,
            "grid_template_columns": null,
            "grid_template_rows": null,
            "height": null,
            "justify_content": null,
            "justify_items": null,
            "left": null,
            "margin": null,
            "max_height": null,
            "max_width": null,
            "min_height": null,
            "min_width": null,
            "object_fit": null,
            "object_position": null,
            "order": null,
            "overflow": null,
            "overflow_x": null,
            "overflow_y": null,
            "padding": null,
            "right": null,
            "top": null,
            "visibility": null,
            "width": null
          }
        },
        "978ce0dec20f434bb1010c45c092506b": {
          "model_module": "@jupyter-widgets/base",
          "model_module_version": "1.2.0",
          "model_name": "LayoutModel",
          "state": {
            "_model_module": "@jupyter-widgets/base",
            "_model_module_version": "1.2.0",
            "_model_name": "LayoutModel",
            "_view_count": null,
            "_view_module": "@jupyter-widgets/base",
            "_view_module_version": "1.2.0",
            "_view_name": "LayoutView",
            "align_content": null,
            "align_items": null,
            "align_self": null,
            "border": null,
            "bottom": null,
            "display": null,
            "flex": null,
            "flex_flow": null,
            "grid_area": null,
            "grid_auto_columns": null,
            "grid_auto_flow": null,
            "grid_auto_rows": null,
            "grid_column": null,
            "grid_gap": null,
            "grid_row": null,
            "grid_template_areas": null,
            "grid_template_columns": null,
            "grid_template_rows": null,
            "height": null,
            "justify_content": null,
            "justify_items": null,
            "left": null,
            "margin": null,
            "max_height": null,
            "max_width": null,
            "min_height": null,
            "min_width": null,
            "object_fit": null,
            "object_position": null,
            "order": null,
            "overflow": null,
            "overflow_x": null,
            "overflow_y": null,
            "padding": null,
            "right": null,
            "top": null,
            "visibility": null,
            "width": null
          }
        },
        "af22e6a6e55f48c38ec4e76f39abba5f": {
          "model_module": "@jupyter-widgets/controls",
          "model_module_version": "1.5.0",
          "model_name": "HTMLModel",
          "state": {
            "_dom_classes": [],
            "_model_module": "@jupyter-widgets/controls",
            "_model_module_version": "1.5.0",
            "_model_name": "HTMLModel",
            "_view_count": null,
            "_view_module": "@jupyter-widgets/controls",
            "_view_module_version": "1.5.0",
            "_view_name": "HTMLView",
            "description": "",
            "description_tooltip": null,
            "layout": "IPY_MODEL_d88f085af1624f89ae10d984a0845ad5",
            "placeholder": "​",
            "style": "IPY_MODEL_87605727fd334b198439e3026f8d3d98",
            "value": " 924/924 [00:00&lt;00:00, 1668.77 examples/s]"
          }
        },
        "cedd7fd434cb49e1847f34ff43111342": {
          "model_module": "@jupyter-widgets/controls",
          "model_module_version": "1.5.0",
          "model_name": "FloatProgressModel",
          "state": {
            "_dom_classes": [],
            "_model_module": "@jupyter-widgets/controls",
            "_model_module_version": "1.5.0",
            "_model_name": "FloatProgressModel",
            "_view_count": null,
            "_view_module": "@jupyter-widgets/controls",
            "_view_module_version": "1.5.0",
            "_view_name": "ProgressView",
            "bar_style": "success",
            "description": "",
            "description_tooltip": null,
            "layout": "IPY_MODEL_453920010d8644409982213e0ea2f035",
            "max": 924,
            "min": 0,
            "orientation": "horizontal",
            "style": "IPY_MODEL_5f8835ead5d64a2d84ed01206dd2c479",
            "value": 924
          }
        },
        "d609512a8fec494ea8ded84deded6918": {
          "model_module": "@jupyter-widgets/base",
          "model_module_version": "1.2.0",
          "model_name": "LayoutModel",
          "state": {
            "_model_module": "@jupyter-widgets/base",
            "_model_module_version": "1.2.0",
            "_model_name": "LayoutModel",
            "_view_count": null,
            "_view_module": "@jupyter-widgets/base",
            "_view_module_version": "1.2.0",
            "_view_name": "LayoutView",
            "align_content": null,
            "align_items": null,
            "align_self": null,
            "border": null,
            "bottom": null,
            "display": null,
            "flex": null,
            "flex_flow": null,
            "grid_area": null,
            "grid_auto_columns": null,
            "grid_auto_flow": null,
            "grid_auto_rows": null,
            "grid_column": null,
            "grid_gap": null,
            "grid_row": null,
            "grid_template_areas": null,
            "grid_template_columns": null,
            "grid_template_rows": null,
            "height": null,
            "justify_content": null,
            "justify_items": null,
            "left": null,
            "margin": null,
            "max_height": null,
            "max_width": null,
            "min_height": null,
            "min_width": null,
            "object_fit": null,
            "object_position": null,
            "order": null,
            "overflow": null,
            "overflow_x": null,
            "overflow_y": null,
            "padding": null,
            "right": null,
            "top": null,
            "visibility": null,
            "width": null
          }
        },
        "d684bdbb19ef42d2ac323f36ee46541e": {
          "model_module": "@jupyter-widgets/controls",
          "model_module_version": "1.5.0",
          "model_name": "HTMLModel",
          "state": {
            "_dom_classes": [],
            "_model_module": "@jupyter-widgets/controls",
            "_model_module_version": "1.5.0",
            "_model_name": "HTMLModel",
            "_view_count": null,
            "_view_module": "@jupyter-widgets/controls",
            "_view_module_version": "1.5.0",
            "_view_name": "HTMLView",
            "description": "",
            "description_tooltip": null,
            "layout": "IPY_MODEL_4da84e33b0ba4072b77ef162bf55fbbc",
            "placeholder": "​",
            "style": "IPY_MODEL_7b7072cd3744492290e58f2afbfc2327",
            "value": " 3250/3250 [00:01&lt;00:00, 2088.40 examples/s]"
          }
        },
        "d88f085af1624f89ae10d984a0845ad5": {
          "model_module": "@jupyter-widgets/base",
          "model_module_version": "1.2.0",
          "model_name": "LayoutModel",
          "state": {
            "_model_module": "@jupyter-widgets/base",
            "_model_module_version": "1.2.0",
            "_model_name": "LayoutModel",
            "_view_count": null,
            "_view_module": "@jupyter-widgets/base",
            "_view_module_version": "1.2.0",
            "_view_name": "LayoutView",
            "align_content": null,
            "align_items": null,
            "align_self": null,
            "border": null,
            "bottom": null,
            "display": null,
            "flex": null,
            "flex_flow": null,
            "grid_area": null,
            "grid_auto_columns": null,
            "grid_auto_flow": null,
            "grid_auto_rows": null,
            "grid_column": null,
            "grid_gap": null,
            "grid_row": null,
            "grid_template_areas": null,
            "grid_template_columns": null,
            "grid_template_rows": null,
            "height": null,
            "justify_content": null,
            "justify_items": null,
            "left": null,
            "margin": null,
            "max_height": null,
            "max_width": null,
            "min_height": null,
            "min_width": null,
            "object_fit": null,
            "object_position": null,
            "order": null,
            "overflow": null,
            "overflow_x": null,
            "overflow_y": null,
            "padding": null,
            "right": null,
            "top": null,
            "visibility": null,
            "width": null
          }
        },
        "daa444889596481b9d4dca33eb4bbcb0": {
          "model_module": "@jupyter-widgets/controls",
          "model_module_version": "1.5.0",
          "model_name": "FloatProgressModel",
          "state": {
            "_dom_classes": [],
            "_model_module": "@jupyter-widgets/controls",
            "_model_module_version": "1.5.0",
            "_model_name": "FloatProgressModel",
            "_view_count": null,
            "_view_module": "@jupyter-widgets/controls",
            "_view_module_version": "1.5.0",
            "_view_name": "ProgressView",
            "bar_style": "success",
            "description": "",
            "description_tooltip": null,
            "layout": "IPY_MODEL_978ce0dec20f434bb1010c45c092506b",
            "max": 3250,
            "min": 0,
            "orientation": "horizontal",
            "style": "IPY_MODEL_7605ab58b68243c88d318f2b4c2a89ce",
            "value": 3250
          }
        },
        "e7ae1eb55ffd4205a83fe0fc05529c2f": {
          "model_module": "@jupyter-widgets/controls",
          "model_module_version": "1.5.0",
          "model_name": "HTMLModel",
          "state": {
            "_dom_classes": [],
            "_model_module": "@jupyter-widgets/controls",
            "_model_module_version": "1.5.0",
            "_model_name": "HTMLModel",
            "_view_count": null,
            "_view_module": "@jupyter-widgets/controls",
            "_view_module_version": "1.5.0",
            "_view_name": "HTMLView",
            "description": "",
            "description_tooltip": null,
            "layout": "IPY_MODEL_96d66577eb3b4b86bb4bcfe7ec113acb",
            "placeholder": "​",
            "style": "IPY_MODEL_159f070d36f74b0c9c7e039bedebb1ab",
            "value": "Map: 100%"
          }
        }
      }
    }
  },
  "nbformat": 4,
  "nbformat_minor": 0
}